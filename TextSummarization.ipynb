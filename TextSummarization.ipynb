{
  "nbformat": 4,
  "nbformat_minor": 0,
  "metadata": {
    "colab": {
      "provenance": [],
      "gpuType": "T4"
    },
    "kernelspec": {
      "name": "python3",
      "display_name": "Python 3"
    },
    "language_info": {
      "name": "python"
    },
    "accelerator": "GPU",
    "widgets": {
      "application/vnd.jupyter.widget-state+json": {
        "38b5bc1145e341b896e1211db91474a6": {
          "model_module": "@jupyter-widgets/controls",
          "model_name": "HBoxModel",
          "model_module_version": "1.5.0",
          "state": {
            "_dom_classes": [],
            "_model_module": "@jupyter-widgets/controls",
            "_model_module_version": "1.5.0",
            "_model_name": "HBoxModel",
            "_view_count": null,
            "_view_module": "@jupyter-widgets/controls",
            "_view_module_version": "1.5.0",
            "_view_name": "HBoxView",
            "box_style": "",
            "children": [
              "IPY_MODEL_7379fd3338094ee4bae2c61a66e7d630",
              "IPY_MODEL_451eb1c3698e4a1c820a59947495c817",
              "IPY_MODEL_e95f948dd56e410b98252669850ca71e"
            ],
            "layout": "IPY_MODEL_20e7fbf89ebe4c759907ffdb6dce201d"
          }
        },
        "7379fd3338094ee4bae2c61a66e7d630": {
          "model_module": "@jupyter-widgets/controls",
          "model_name": "HTMLModel",
          "model_module_version": "1.5.0",
          "state": {
            "_dom_classes": [],
            "_model_module": "@jupyter-widgets/controls",
            "_model_module_version": "1.5.0",
            "_model_name": "HTMLModel",
            "_view_count": null,
            "_view_module": "@jupyter-widgets/controls",
            "_view_module_version": "1.5.0",
            "_view_name": "HTMLView",
            "description": "",
            "description_tooltip": null,
            "layout": "IPY_MODEL_93e1722102d8497ebd598d355d6ea81e",
            "placeholder": "​",
            "style": "IPY_MODEL_fafd441962f94d28961c7a6d38948ce7",
            "value": "Downloading (…)lve/main/config.json: "
          }
        },
        "451eb1c3698e4a1c820a59947495c817": {
          "model_module": "@jupyter-widgets/controls",
          "model_name": "FloatProgressModel",
          "model_module_version": "1.5.0",
          "state": {
            "_dom_classes": [],
            "_model_module": "@jupyter-widgets/controls",
            "_model_module_version": "1.5.0",
            "_model_name": "FloatProgressModel",
            "_view_count": null,
            "_view_module": "@jupyter-widgets/controls",
            "_view_module_version": "1.5.0",
            "_view_name": "ProgressView",
            "bar_style": "success",
            "description": "",
            "description_tooltip": null,
            "layout": "IPY_MODEL_d79ef86728d343f496d86ce95e77053d",
            "max": 1,
            "min": 0,
            "orientation": "horizontal",
            "style": "IPY_MODEL_cce3a67f988d494b935281e8a465eb69",
            "value": 1
          }
        },
        "e95f948dd56e410b98252669850ca71e": {
          "model_module": "@jupyter-widgets/controls",
          "model_name": "HTMLModel",
          "model_module_version": "1.5.0",
          "state": {
            "_dom_classes": [],
            "_model_module": "@jupyter-widgets/controls",
            "_model_module_version": "1.5.0",
            "_model_name": "HTMLModel",
            "_view_count": null,
            "_view_module": "@jupyter-widgets/controls",
            "_view_module_version": "1.5.0",
            "_view_name": "HTMLView",
            "description": "",
            "description_tooltip": null,
            "layout": "IPY_MODEL_295696022bfc42d89bbf3d5339cac179",
            "placeholder": "​",
            "style": "IPY_MODEL_a511960da82e438ab2ea55d57549a435",
            "value": " 1.80k/? [00:00&lt;00:00, 94.5kB/s]"
          }
        },
        "20e7fbf89ebe4c759907ffdb6dce201d": {
          "model_module": "@jupyter-widgets/base",
          "model_name": "LayoutModel",
          "model_module_version": "1.2.0",
          "state": {
            "_model_module": "@jupyter-widgets/base",
            "_model_module_version": "1.2.0",
            "_model_name": "LayoutModel",
            "_view_count": null,
            "_view_module": "@jupyter-widgets/base",
            "_view_module_version": "1.2.0",
            "_view_name": "LayoutView",
            "align_content": null,
            "align_items": null,
            "align_self": null,
            "border": null,
            "bottom": null,
            "display": null,
            "flex": null,
            "flex_flow": null,
            "grid_area": null,
            "grid_auto_columns": null,
            "grid_auto_flow": null,
            "grid_auto_rows": null,
            "grid_column": null,
            "grid_gap": null,
            "grid_row": null,
            "grid_template_areas": null,
            "grid_template_columns": null,
            "grid_template_rows": null,
            "height": null,
            "justify_content": null,
            "justify_items": null,
            "left": null,
            "margin": null,
            "max_height": null,
            "max_width": null,
            "min_height": null,
            "min_width": null,
            "object_fit": null,
            "object_position": null,
            "order": null,
            "overflow": null,
            "overflow_x": null,
            "overflow_y": null,
            "padding": null,
            "right": null,
            "top": null,
            "visibility": null,
            "width": null
          }
        },
        "93e1722102d8497ebd598d355d6ea81e": {
          "model_module": "@jupyter-widgets/base",
          "model_name": "LayoutModel",
          "model_module_version": "1.2.0",
          "state": {
            "_model_module": "@jupyter-widgets/base",
            "_model_module_version": "1.2.0",
            "_model_name": "LayoutModel",
            "_view_count": null,
            "_view_module": "@jupyter-widgets/base",
            "_view_module_version": "1.2.0",
            "_view_name": "LayoutView",
            "align_content": null,
            "align_items": null,
            "align_self": null,
            "border": null,
            "bottom": null,
            "display": null,
            "flex": null,
            "flex_flow": null,
            "grid_area": null,
            "grid_auto_columns": null,
            "grid_auto_flow": null,
            "grid_auto_rows": null,
            "grid_column": null,
            "grid_gap": null,
            "grid_row": null,
            "grid_template_areas": null,
            "grid_template_columns": null,
            "grid_template_rows": null,
            "height": null,
            "justify_content": null,
            "justify_items": null,
            "left": null,
            "margin": null,
            "max_height": null,
            "max_width": null,
            "min_height": null,
            "min_width": null,
            "object_fit": null,
            "object_position": null,
            "order": null,
            "overflow": null,
            "overflow_x": null,
            "overflow_y": null,
            "padding": null,
            "right": null,
            "top": null,
            "visibility": null,
            "width": null
          }
        },
        "fafd441962f94d28961c7a6d38948ce7": {
          "model_module": "@jupyter-widgets/controls",
          "model_name": "DescriptionStyleModel",
          "model_module_version": "1.5.0",
          "state": {
            "_model_module": "@jupyter-widgets/controls",
            "_model_module_version": "1.5.0",
            "_model_name": "DescriptionStyleModel",
            "_view_count": null,
            "_view_module": "@jupyter-widgets/base",
            "_view_module_version": "1.2.0",
            "_view_name": "StyleView",
            "description_width": ""
          }
        },
        "d79ef86728d343f496d86ce95e77053d": {
          "model_module": "@jupyter-widgets/base",
          "model_name": "LayoutModel",
          "model_module_version": "1.2.0",
          "state": {
            "_model_module": "@jupyter-widgets/base",
            "_model_module_version": "1.2.0",
            "_model_name": "LayoutModel",
            "_view_count": null,
            "_view_module": "@jupyter-widgets/base",
            "_view_module_version": "1.2.0",
            "_view_name": "LayoutView",
            "align_content": null,
            "align_items": null,
            "align_self": null,
            "border": null,
            "bottom": null,
            "display": null,
            "flex": null,
            "flex_flow": null,
            "grid_area": null,
            "grid_auto_columns": null,
            "grid_auto_flow": null,
            "grid_auto_rows": null,
            "grid_column": null,
            "grid_gap": null,
            "grid_row": null,
            "grid_template_areas": null,
            "grid_template_columns": null,
            "grid_template_rows": null,
            "height": null,
            "justify_content": null,
            "justify_items": null,
            "left": null,
            "margin": null,
            "max_height": null,
            "max_width": null,
            "min_height": null,
            "min_width": null,
            "object_fit": null,
            "object_position": null,
            "order": null,
            "overflow": null,
            "overflow_x": null,
            "overflow_y": null,
            "padding": null,
            "right": null,
            "top": null,
            "visibility": null,
            "width": "20px"
          }
        },
        "cce3a67f988d494b935281e8a465eb69": {
          "model_module": "@jupyter-widgets/controls",
          "model_name": "ProgressStyleModel",
          "model_module_version": "1.5.0",
          "state": {
            "_model_module": "@jupyter-widgets/controls",
            "_model_module_version": "1.5.0",
            "_model_name": "ProgressStyleModel",
            "_view_count": null,
            "_view_module": "@jupyter-widgets/base",
            "_view_module_version": "1.2.0",
            "_view_name": "StyleView",
            "bar_color": null,
            "description_width": ""
          }
        },
        "295696022bfc42d89bbf3d5339cac179": {
          "model_module": "@jupyter-widgets/base",
          "model_name": "LayoutModel",
          "model_module_version": "1.2.0",
          "state": {
            "_model_module": "@jupyter-widgets/base",
            "_model_module_version": "1.2.0",
            "_model_name": "LayoutModel",
            "_view_count": null,
            "_view_module": "@jupyter-widgets/base",
            "_view_module_version": "1.2.0",
            "_view_name": "LayoutView",
            "align_content": null,
            "align_items": null,
            "align_self": null,
            "border": null,
            "bottom": null,
            "display": null,
            "flex": null,
            "flex_flow": null,
            "grid_area": null,
            "grid_auto_columns": null,
            "grid_auto_flow": null,
            "grid_auto_rows": null,
            "grid_column": null,
            "grid_gap": null,
            "grid_row": null,
            "grid_template_areas": null,
            "grid_template_columns": null,
            "grid_template_rows": null,
            "height": null,
            "justify_content": null,
            "justify_items": null,
            "left": null,
            "margin": null,
            "max_height": null,
            "max_width": null,
            "min_height": null,
            "min_width": null,
            "object_fit": null,
            "object_position": null,
            "order": null,
            "overflow": null,
            "overflow_x": null,
            "overflow_y": null,
            "padding": null,
            "right": null,
            "top": null,
            "visibility": null,
            "width": null
          }
        },
        "a511960da82e438ab2ea55d57549a435": {
          "model_module": "@jupyter-widgets/controls",
          "model_name": "DescriptionStyleModel",
          "model_module_version": "1.5.0",
          "state": {
            "_model_module": "@jupyter-widgets/controls",
            "_model_module_version": "1.5.0",
            "_model_name": "DescriptionStyleModel",
            "_view_count": null,
            "_view_module": "@jupyter-widgets/base",
            "_view_module_version": "1.2.0",
            "_view_name": "StyleView",
            "description_width": ""
          }
        },
        "d6e7435c77ec41038f93686d5ab27820": {
          "model_module": "@jupyter-widgets/controls",
          "model_name": "HBoxModel",
          "model_module_version": "1.5.0",
          "state": {
            "_dom_classes": [],
            "_model_module": "@jupyter-widgets/controls",
            "_model_module_version": "1.5.0",
            "_model_name": "HBoxModel",
            "_view_count": null,
            "_view_module": "@jupyter-widgets/controls",
            "_view_module_version": "1.5.0",
            "_view_name": "HBoxView",
            "box_style": "",
            "children": [
              "IPY_MODEL_d283d5219a264a3489b804cf966d9501",
              "IPY_MODEL_1bebab188f7c4e8fb4a0e85cfd71a9ed",
              "IPY_MODEL_a0f8939f9899440f84634d81157cdfc8"
            ],
            "layout": "IPY_MODEL_e96801699b8e45a99bdb02c01fc1295b"
          }
        },
        "d283d5219a264a3489b804cf966d9501": {
          "model_module": "@jupyter-widgets/controls",
          "model_name": "HTMLModel",
          "model_module_version": "1.5.0",
          "state": {
            "_dom_classes": [],
            "_model_module": "@jupyter-widgets/controls",
            "_model_module_version": "1.5.0",
            "_model_name": "HTMLModel",
            "_view_count": null,
            "_view_module": "@jupyter-widgets/controls",
            "_view_module_version": "1.5.0",
            "_view_name": "HTMLView",
            "description": "",
            "description_tooltip": null,
            "layout": "IPY_MODEL_ed933b3d930440dbb95fbb52ca176190",
            "placeholder": "​",
            "style": "IPY_MODEL_6e819caf0b794654b939569cbb9a130b",
            "value": "Downloading pytorch_model.bin: 100%"
          }
        },
        "1bebab188f7c4e8fb4a0e85cfd71a9ed": {
          "model_module": "@jupyter-widgets/controls",
          "model_name": "FloatProgressModel",
          "model_module_version": "1.5.0",
          "state": {
            "_dom_classes": [],
            "_model_module": "@jupyter-widgets/controls",
            "_model_module_version": "1.5.0",
            "_model_name": "FloatProgressModel",
            "_view_count": null,
            "_view_module": "@jupyter-widgets/controls",
            "_view_module_version": "1.5.0",
            "_view_name": "ProgressView",
            "bar_style": "success",
            "description": "",
            "description_tooltip": null,
            "layout": "IPY_MODEL_81a71d8e42444598b4f9aad06938ba7c",
            "max": 1222317369,
            "min": 0,
            "orientation": "horizontal",
            "style": "IPY_MODEL_8fc5a2514d3945a9a51e1661cef4e8b0",
            "value": 1222317369
          }
        },
        "a0f8939f9899440f84634d81157cdfc8": {
          "model_module": "@jupyter-widgets/controls",
          "model_name": "HTMLModel",
          "model_module_version": "1.5.0",
          "state": {
            "_dom_classes": [],
            "_model_module": "@jupyter-widgets/controls",
            "_model_module_version": "1.5.0",
            "_model_name": "HTMLModel",
            "_view_count": null,
            "_view_module": "@jupyter-widgets/controls",
            "_view_module_version": "1.5.0",
            "_view_name": "HTMLView",
            "description": "",
            "description_tooltip": null,
            "layout": "IPY_MODEL_188401a04f8a4b0d9d2642042d1068ca",
            "placeholder": "​",
            "style": "IPY_MODEL_88bf796f98224b37bac95f3e69d0652a",
            "value": " 1.22G/1.22G [00:16&lt;00:00, 83.1MB/s]"
          }
        },
        "e96801699b8e45a99bdb02c01fc1295b": {
          "model_module": "@jupyter-widgets/base",
          "model_name": "LayoutModel",
          "model_module_version": "1.2.0",
          "state": {
            "_model_module": "@jupyter-widgets/base",
            "_model_module_version": "1.2.0",
            "_model_name": "LayoutModel",
            "_view_count": null,
            "_view_module": "@jupyter-widgets/base",
            "_view_module_version": "1.2.0",
            "_view_name": "LayoutView",
            "align_content": null,
            "align_items": null,
            "align_self": null,
            "border": null,
            "bottom": null,
            "display": null,
            "flex": null,
            "flex_flow": null,
            "grid_area": null,
            "grid_auto_columns": null,
            "grid_auto_flow": null,
            "grid_auto_rows": null,
            "grid_column": null,
            "grid_gap": null,
            "grid_row": null,
            "grid_template_areas": null,
            "grid_template_columns": null,
            "grid_template_rows": null,
            "height": null,
            "justify_content": null,
            "justify_items": null,
            "left": null,
            "margin": null,
            "max_height": null,
            "max_width": null,
            "min_height": null,
            "min_width": null,
            "object_fit": null,
            "object_position": null,
            "order": null,
            "overflow": null,
            "overflow_x": null,
            "overflow_y": null,
            "padding": null,
            "right": null,
            "top": null,
            "visibility": null,
            "width": null
          }
        },
        "ed933b3d930440dbb95fbb52ca176190": {
          "model_module": "@jupyter-widgets/base",
          "model_name": "LayoutModel",
          "model_module_version": "1.2.0",
          "state": {
            "_model_module": "@jupyter-widgets/base",
            "_model_module_version": "1.2.0",
            "_model_name": "LayoutModel",
            "_view_count": null,
            "_view_module": "@jupyter-widgets/base",
            "_view_module_version": "1.2.0",
            "_view_name": "LayoutView",
            "align_content": null,
            "align_items": null,
            "align_self": null,
            "border": null,
            "bottom": null,
            "display": null,
            "flex": null,
            "flex_flow": null,
            "grid_area": null,
            "grid_auto_columns": null,
            "grid_auto_flow": null,
            "grid_auto_rows": null,
            "grid_column": null,
            "grid_gap": null,
            "grid_row": null,
            "grid_template_areas": null,
            "grid_template_columns": null,
            "grid_template_rows": null,
            "height": null,
            "justify_content": null,
            "justify_items": null,
            "left": null,
            "margin": null,
            "max_height": null,
            "max_width": null,
            "min_height": null,
            "min_width": null,
            "object_fit": null,
            "object_position": null,
            "order": null,
            "overflow": null,
            "overflow_x": null,
            "overflow_y": null,
            "padding": null,
            "right": null,
            "top": null,
            "visibility": null,
            "width": null
          }
        },
        "6e819caf0b794654b939569cbb9a130b": {
          "model_module": "@jupyter-widgets/controls",
          "model_name": "DescriptionStyleModel",
          "model_module_version": "1.5.0",
          "state": {
            "_model_module": "@jupyter-widgets/controls",
            "_model_module_version": "1.5.0",
            "_model_name": "DescriptionStyleModel",
            "_view_count": null,
            "_view_module": "@jupyter-widgets/base",
            "_view_module_version": "1.2.0",
            "_view_name": "StyleView",
            "description_width": ""
          }
        },
        "81a71d8e42444598b4f9aad06938ba7c": {
          "model_module": "@jupyter-widgets/base",
          "model_name": "LayoutModel",
          "model_module_version": "1.2.0",
          "state": {
            "_model_module": "@jupyter-widgets/base",
            "_model_module_version": "1.2.0",
            "_model_name": "LayoutModel",
            "_view_count": null,
            "_view_module": "@jupyter-widgets/base",
            "_view_module_version": "1.2.0",
            "_view_name": "LayoutView",
            "align_content": null,
            "align_items": null,
            "align_self": null,
            "border": null,
            "bottom": null,
            "display": null,
            "flex": null,
            "flex_flow": null,
            "grid_area": null,
            "grid_auto_columns": null,
            "grid_auto_flow": null,
            "grid_auto_rows": null,
            "grid_column": null,
            "grid_gap": null,
            "grid_row": null,
            "grid_template_areas": null,
            "grid_template_columns": null,
            "grid_template_rows": null,
            "height": null,
            "justify_content": null,
            "justify_items": null,
            "left": null,
            "margin": null,
            "max_height": null,
            "max_width": null,
            "min_height": null,
            "min_width": null,
            "object_fit": null,
            "object_position": null,
            "order": null,
            "overflow": null,
            "overflow_x": null,
            "overflow_y": null,
            "padding": null,
            "right": null,
            "top": null,
            "visibility": null,
            "width": null
          }
        },
        "8fc5a2514d3945a9a51e1661cef4e8b0": {
          "model_module": "@jupyter-widgets/controls",
          "model_name": "ProgressStyleModel",
          "model_module_version": "1.5.0",
          "state": {
            "_model_module": "@jupyter-widgets/controls",
            "_model_module_version": "1.5.0",
            "_model_name": "ProgressStyleModel",
            "_view_count": null,
            "_view_module": "@jupyter-widgets/base",
            "_view_module_version": "1.2.0",
            "_view_name": "StyleView",
            "bar_color": null,
            "description_width": ""
          }
        },
        "188401a04f8a4b0d9d2642042d1068ca": {
          "model_module": "@jupyter-widgets/base",
          "model_name": "LayoutModel",
          "model_module_version": "1.2.0",
          "state": {
            "_model_module": "@jupyter-widgets/base",
            "_model_module_version": "1.2.0",
            "_model_name": "LayoutModel",
            "_view_count": null,
            "_view_module": "@jupyter-widgets/base",
            "_view_module_version": "1.2.0",
            "_view_name": "LayoutView",
            "align_content": null,
            "align_items": null,
            "align_self": null,
            "border": null,
            "bottom": null,
            "display": null,
            "flex": null,
            "flex_flow": null,
            "grid_area": null,
            "grid_auto_columns": null,
            "grid_auto_flow": null,
            "grid_auto_rows": null,
            "grid_column": null,
            "grid_gap": null,
            "grid_row": null,
            "grid_template_areas": null,
            "grid_template_columns": null,
            "grid_template_rows": null,
            "height": null,
            "justify_content": null,
            "justify_items": null,
            "left": null,
            "margin": null,
            "max_height": null,
            "max_width": null,
            "min_height": null,
            "min_width": null,
            "object_fit": null,
            "object_position": null,
            "order": null,
            "overflow": null,
            "overflow_x": null,
            "overflow_y": null,
            "padding": null,
            "right": null,
            "top": null,
            "visibility": null,
            "width": null
          }
        },
        "88bf796f98224b37bac95f3e69d0652a": {
          "model_module": "@jupyter-widgets/controls",
          "model_name": "DescriptionStyleModel",
          "model_module_version": "1.5.0",
          "state": {
            "_model_module": "@jupyter-widgets/controls",
            "_model_module_version": "1.5.0",
            "_model_name": "DescriptionStyleModel",
            "_view_count": null,
            "_view_module": "@jupyter-widgets/base",
            "_view_module_version": "1.2.0",
            "_view_name": "StyleView",
            "description_width": ""
          }
        },
        "2eac0bc1b7e7437c9ee3a68346ccd4c0": {
          "model_module": "@jupyter-widgets/controls",
          "model_name": "HBoxModel",
          "model_module_version": "1.5.0",
          "state": {
            "_dom_classes": [],
            "_model_module": "@jupyter-widgets/controls",
            "_model_module_version": "1.5.0",
            "_model_name": "HBoxModel",
            "_view_count": null,
            "_view_module": "@jupyter-widgets/controls",
            "_view_module_version": "1.5.0",
            "_view_name": "HBoxView",
            "box_style": "",
            "children": [
              "IPY_MODEL_f6de2bf9760849e38fe1e118a9414c38",
              "IPY_MODEL_74d482459c6941ba83ccfc2dfa6cbf85",
              "IPY_MODEL_877cdc01319d4246b0fa6d833463df7b"
            ],
            "layout": "IPY_MODEL_965c901a545c4353b3371767af708479"
          }
        },
        "f6de2bf9760849e38fe1e118a9414c38": {
          "model_module": "@jupyter-widgets/controls",
          "model_name": "HTMLModel",
          "model_module_version": "1.5.0",
          "state": {
            "_dom_classes": [],
            "_model_module": "@jupyter-widgets/controls",
            "_model_module_version": "1.5.0",
            "_model_name": "HTMLModel",
            "_view_count": null,
            "_view_module": "@jupyter-widgets/controls",
            "_view_module_version": "1.5.0",
            "_view_name": "HTMLView",
            "description": "",
            "description_tooltip": null,
            "layout": "IPY_MODEL_947a6f6c5c5f4704ba36b2345c2cfabd",
            "placeholder": "​",
            "style": "IPY_MODEL_7b5d48544ae0445ea9322415bbe05d87",
            "value": "Downloading (…)okenizer_config.json: 100%"
          }
        },
        "74d482459c6941ba83ccfc2dfa6cbf85": {
          "model_module": "@jupyter-widgets/controls",
          "model_name": "FloatProgressModel",
          "model_module_version": "1.5.0",
          "state": {
            "_dom_classes": [],
            "_model_module": "@jupyter-widgets/controls",
            "_model_module_version": "1.5.0",
            "_model_name": "FloatProgressModel",
            "_view_count": null,
            "_view_module": "@jupyter-widgets/controls",
            "_view_module_version": "1.5.0",
            "_view_name": "ProgressView",
            "bar_style": "success",
            "description": "",
            "description_tooltip": null,
            "layout": "IPY_MODEL_98989646cdc042c5a5078efde0556478",
            "max": 26,
            "min": 0,
            "orientation": "horizontal",
            "style": "IPY_MODEL_60cb062567ab44c7b8c405cdf2024d9e",
            "value": 26
          }
        },
        "877cdc01319d4246b0fa6d833463df7b": {
          "model_module": "@jupyter-widgets/controls",
          "model_name": "HTMLModel",
          "model_module_version": "1.5.0",
          "state": {
            "_dom_classes": [],
            "_model_module": "@jupyter-widgets/controls",
            "_model_module_version": "1.5.0",
            "_model_name": "HTMLModel",
            "_view_count": null,
            "_view_module": "@jupyter-widgets/controls",
            "_view_module_version": "1.5.0",
            "_view_name": "HTMLView",
            "description": "",
            "description_tooltip": null,
            "layout": "IPY_MODEL_0a43cbf6cf4146b4877906692f75edf6",
            "placeholder": "​",
            "style": "IPY_MODEL_fa7ac9d35ab043508a9086593c592349",
            "value": " 26.0/26.0 [00:00&lt;00:00, 1.78kB/s]"
          }
        },
        "965c901a545c4353b3371767af708479": {
          "model_module": "@jupyter-widgets/base",
          "model_name": "LayoutModel",
          "model_module_version": "1.2.0",
          "state": {
            "_model_module": "@jupyter-widgets/base",
            "_model_module_version": "1.2.0",
            "_model_name": "LayoutModel",
            "_view_count": null,
            "_view_module": "@jupyter-widgets/base",
            "_view_module_version": "1.2.0",
            "_view_name": "LayoutView",
            "align_content": null,
            "align_items": null,
            "align_self": null,
            "border": null,
            "bottom": null,
            "display": null,
            "flex": null,
            "flex_flow": null,
            "grid_area": null,
            "grid_auto_columns": null,
            "grid_auto_flow": null,
            "grid_auto_rows": null,
            "grid_column": null,
            "grid_gap": null,
            "grid_row": null,
            "grid_template_areas": null,
            "grid_template_columns": null,
            "grid_template_rows": null,
            "height": null,
            "justify_content": null,
            "justify_items": null,
            "left": null,
            "margin": null,
            "max_height": null,
            "max_width": null,
            "min_height": null,
            "min_width": null,
            "object_fit": null,
            "object_position": null,
            "order": null,
            "overflow": null,
            "overflow_x": null,
            "overflow_y": null,
            "padding": null,
            "right": null,
            "top": null,
            "visibility": null,
            "width": null
          }
        },
        "947a6f6c5c5f4704ba36b2345c2cfabd": {
          "model_module": "@jupyter-widgets/base",
          "model_name": "LayoutModel",
          "model_module_version": "1.2.0",
          "state": {
            "_model_module": "@jupyter-widgets/base",
            "_model_module_version": "1.2.0",
            "_model_name": "LayoutModel",
            "_view_count": null,
            "_view_module": "@jupyter-widgets/base",
            "_view_module_version": "1.2.0",
            "_view_name": "LayoutView",
            "align_content": null,
            "align_items": null,
            "align_self": null,
            "border": null,
            "bottom": null,
            "display": null,
            "flex": null,
            "flex_flow": null,
            "grid_area": null,
            "grid_auto_columns": null,
            "grid_auto_flow": null,
            "grid_auto_rows": null,
            "grid_column": null,
            "grid_gap": null,
            "grid_row": null,
            "grid_template_areas": null,
            "grid_template_columns": null,
            "grid_template_rows": null,
            "height": null,
            "justify_content": null,
            "justify_items": null,
            "left": null,
            "margin": null,
            "max_height": null,
            "max_width": null,
            "min_height": null,
            "min_width": null,
            "object_fit": null,
            "object_position": null,
            "order": null,
            "overflow": null,
            "overflow_x": null,
            "overflow_y": null,
            "padding": null,
            "right": null,
            "top": null,
            "visibility": null,
            "width": null
          }
        },
        "7b5d48544ae0445ea9322415bbe05d87": {
          "model_module": "@jupyter-widgets/controls",
          "model_name": "DescriptionStyleModel",
          "model_module_version": "1.5.0",
          "state": {
            "_model_module": "@jupyter-widgets/controls",
            "_model_module_version": "1.5.0",
            "_model_name": "DescriptionStyleModel",
            "_view_count": null,
            "_view_module": "@jupyter-widgets/base",
            "_view_module_version": "1.2.0",
            "_view_name": "StyleView",
            "description_width": ""
          }
        },
        "98989646cdc042c5a5078efde0556478": {
          "model_module": "@jupyter-widgets/base",
          "model_name": "LayoutModel",
          "model_module_version": "1.2.0",
          "state": {
            "_model_module": "@jupyter-widgets/base",
            "_model_module_version": "1.2.0",
            "_model_name": "LayoutModel",
            "_view_count": null,
            "_view_module": "@jupyter-widgets/base",
            "_view_module_version": "1.2.0",
            "_view_name": "LayoutView",
            "align_content": null,
            "align_items": null,
            "align_self": null,
            "border": null,
            "bottom": null,
            "display": null,
            "flex": null,
            "flex_flow": null,
            "grid_area": null,
            "grid_auto_columns": null,
            "grid_auto_flow": null,
            "grid_auto_rows": null,
            "grid_column": null,
            "grid_gap": null,
            "grid_row": null,
            "grid_template_areas": null,
            "grid_template_columns": null,
            "grid_template_rows": null,
            "height": null,
            "justify_content": null,
            "justify_items": null,
            "left": null,
            "margin": null,
            "max_height": null,
            "max_width": null,
            "min_height": null,
            "min_width": null,
            "object_fit": null,
            "object_position": null,
            "order": null,
            "overflow": null,
            "overflow_x": null,
            "overflow_y": null,
            "padding": null,
            "right": null,
            "top": null,
            "visibility": null,
            "width": null
          }
        },
        "60cb062567ab44c7b8c405cdf2024d9e": {
          "model_module": "@jupyter-widgets/controls",
          "model_name": "ProgressStyleModel",
          "model_module_version": "1.5.0",
          "state": {
            "_model_module": "@jupyter-widgets/controls",
            "_model_module_version": "1.5.0",
            "_model_name": "ProgressStyleModel",
            "_view_count": null,
            "_view_module": "@jupyter-widgets/base",
            "_view_module_version": "1.2.0",
            "_view_name": "StyleView",
            "bar_color": null,
            "description_width": ""
          }
        },
        "0a43cbf6cf4146b4877906692f75edf6": {
          "model_module": "@jupyter-widgets/base",
          "model_name": "LayoutModel",
          "model_module_version": "1.2.0",
          "state": {
            "_model_module": "@jupyter-widgets/base",
            "_model_module_version": "1.2.0",
            "_model_name": "LayoutModel",
            "_view_count": null,
            "_view_module": "@jupyter-widgets/base",
            "_view_module_version": "1.2.0",
            "_view_name": "LayoutView",
            "align_content": null,
            "align_items": null,
            "align_self": null,
            "border": null,
            "bottom": null,
            "display": null,
            "flex": null,
            "flex_flow": null,
            "grid_area": null,
            "grid_auto_columns": null,
            "grid_auto_flow": null,
            "grid_auto_rows": null,
            "grid_column": null,
            "grid_gap": null,
            "grid_row": null,
            "grid_template_areas": null,
            "grid_template_columns": null,
            "grid_template_rows": null,
            "height": null,
            "justify_content": null,
            "justify_items": null,
            "left": null,
            "margin": null,
            "max_height": null,
            "max_width": null,
            "min_height": null,
            "min_width": null,
            "object_fit": null,
            "object_position": null,
            "order": null,
            "overflow": null,
            "overflow_x": null,
            "overflow_y": null,
            "padding": null,
            "right": null,
            "top": null,
            "visibility": null,
            "width": null
          }
        },
        "fa7ac9d35ab043508a9086593c592349": {
          "model_module": "@jupyter-widgets/controls",
          "model_name": "DescriptionStyleModel",
          "model_module_version": "1.5.0",
          "state": {
            "_model_module": "@jupyter-widgets/controls",
            "_model_module_version": "1.5.0",
            "_model_name": "DescriptionStyleModel",
            "_view_count": null,
            "_view_module": "@jupyter-widgets/base",
            "_view_module_version": "1.2.0",
            "_view_name": "StyleView",
            "description_width": ""
          }
        },
        "bae43485659f4d6dadaa14af159246e5": {
          "model_module": "@jupyter-widgets/controls",
          "model_name": "HBoxModel",
          "model_module_version": "1.5.0",
          "state": {
            "_dom_classes": [],
            "_model_module": "@jupyter-widgets/controls",
            "_model_module_version": "1.5.0",
            "_model_name": "HBoxModel",
            "_view_count": null,
            "_view_module": "@jupyter-widgets/controls",
            "_view_module_version": "1.5.0",
            "_view_name": "HBoxView",
            "box_style": "",
            "children": [
              "IPY_MODEL_b0b141c0acbd4f72ba25ea7c3097c71d",
              "IPY_MODEL_519774d22f254eb991ea2ba1cf1a152f",
              "IPY_MODEL_2bd4cd0f3b5541eabd63e835882683c0"
            ],
            "layout": "IPY_MODEL_e3a4625f3835473e919d088dbcc41785"
          }
        },
        "b0b141c0acbd4f72ba25ea7c3097c71d": {
          "model_module": "@jupyter-widgets/controls",
          "model_name": "HTMLModel",
          "model_module_version": "1.5.0",
          "state": {
            "_dom_classes": [],
            "_model_module": "@jupyter-widgets/controls",
            "_model_module_version": "1.5.0",
            "_model_name": "HTMLModel",
            "_view_count": null,
            "_view_module": "@jupyter-widgets/controls",
            "_view_module_version": "1.5.0",
            "_view_name": "HTMLView",
            "description": "",
            "description_tooltip": null,
            "layout": "IPY_MODEL_35385a94b4ca4725ba1160853f070757",
            "placeholder": "​",
            "style": "IPY_MODEL_d77ae42f13744f9fbae4eefd2864f3a0",
            "value": "Downloading (…)olve/main/vocab.json: "
          }
        },
        "519774d22f254eb991ea2ba1cf1a152f": {
          "model_module": "@jupyter-widgets/controls",
          "model_name": "FloatProgressModel",
          "model_module_version": "1.5.0",
          "state": {
            "_dom_classes": [],
            "_model_module": "@jupyter-widgets/controls",
            "_model_module_version": "1.5.0",
            "_model_name": "FloatProgressModel",
            "_view_count": null,
            "_view_module": "@jupyter-widgets/controls",
            "_view_module_version": "1.5.0",
            "_view_name": "ProgressView",
            "bar_style": "success",
            "description": "",
            "description_tooltip": null,
            "layout": "IPY_MODEL_78fcb587b7304a34bb1dcc98b58417b1",
            "max": 1,
            "min": 0,
            "orientation": "horizontal",
            "style": "IPY_MODEL_c91dbab94bad4a1c9acec6b73540e21e",
            "value": 1
          }
        },
        "2bd4cd0f3b5541eabd63e835882683c0": {
          "model_module": "@jupyter-widgets/controls",
          "model_name": "HTMLModel",
          "model_module_version": "1.5.0",
          "state": {
            "_dom_classes": [],
            "_model_module": "@jupyter-widgets/controls",
            "_model_module_version": "1.5.0",
            "_model_name": "HTMLModel",
            "_view_count": null,
            "_view_module": "@jupyter-widgets/controls",
            "_view_module_version": "1.5.0",
            "_view_name": "HTMLView",
            "description": "",
            "description_tooltip": null,
            "layout": "IPY_MODEL_8a13e484b8f5492899de7cba47ba7266",
            "placeholder": "​",
            "style": "IPY_MODEL_009f9534a5a9465abdb90df4c674344a",
            "value": " 899k/? [00:00&lt;00:00, 1.56MB/s]"
          }
        },
        "e3a4625f3835473e919d088dbcc41785": {
          "model_module": "@jupyter-widgets/base",
          "model_name": "LayoutModel",
          "model_module_version": "1.2.0",
          "state": {
            "_model_module": "@jupyter-widgets/base",
            "_model_module_version": "1.2.0",
            "_model_name": "LayoutModel",
            "_view_count": null,
            "_view_module": "@jupyter-widgets/base",
            "_view_module_version": "1.2.0",
            "_view_name": "LayoutView",
            "align_content": null,
            "align_items": null,
            "align_self": null,
            "border": null,
            "bottom": null,
            "display": null,
            "flex": null,
            "flex_flow": null,
            "grid_area": null,
            "grid_auto_columns": null,
            "grid_auto_flow": null,
            "grid_auto_rows": null,
            "grid_column": null,
            "grid_gap": null,
            "grid_row": null,
            "grid_template_areas": null,
            "grid_template_columns": null,
            "grid_template_rows": null,
            "height": null,
            "justify_content": null,
            "justify_items": null,
            "left": null,
            "margin": null,
            "max_height": null,
            "max_width": null,
            "min_height": null,
            "min_width": null,
            "object_fit": null,
            "object_position": null,
            "order": null,
            "overflow": null,
            "overflow_x": null,
            "overflow_y": null,
            "padding": null,
            "right": null,
            "top": null,
            "visibility": null,
            "width": null
          }
        },
        "35385a94b4ca4725ba1160853f070757": {
          "model_module": "@jupyter-widgets/base",
          "model_name": "LayoutModel",
          "model_module_version": "1.2.0",
          "state": {
            "_model_module": "@jupyter-widgets/base",
            "_model_module_version": "1.2.0",
            "_model_name": "LayoutModel",
            "_view_count": null,
            "_view_module": "@jupyter-widgets/base",
            "_view_module_version": "1.2.0",
            "_view_name": "LayoutView",
            "align_content": null,
            "align_items": null,
            "align_self": null,
            "border": null,
            "bottom": null,
            "display": null,
            "flex": null,
            "flex_flow": null,
            "grid_area": null,
            "grid_auto_columns": null,
            "grid_auto_flow": null,
            "grid_auto_rows": null,
            "grid_column": null,
            "grid_gap": null,
            "grid_row": null,
            "grid_template_areas": null,
            "grid_template_columns": null,
            "grid_template_rows": null,
            "height": null,
            "justify_content": null,
            "justify_items": null,
            "left": null,
            "margin": null,
            "max_height": null,
            "max_width": null,
            "min_height": null,
            "min_width": null,
            "object_fit": null,
            "object_position": null,
            "order": null,
            "overflow": null,
            "overflow_x": null,
            "overflow_y": null,
            "padding": null,
            "right": null,
            "top": null,
            "visibility": null,
            "width": null
          }
        },
        "d77ae42f13744f9fbae4eefd2864f3a0": {
          "model_module": "@jupyter-widgets/controls",
          "model_name": "DescriptionStyleModel",
          "model_module_version": "1.5.0",
          "state": {
            "_model_module": "@jupyter-widgets/controls",
            "_model_module_version": "1.5.0",
            "_model_name": "DescriptionStyleModel",
            "_view_count": null,
            "_view_module": "@jupyter-widgets/base",
            "_view_module_version": "1.2.0",
            "_view_name": "StyleView",
            "description_width": ""
          }
        },
        "78fcb587b7304a34bb1dcc98b58417b1": {
          "model_module": "@jupyter-widgets/base",
          "model_name": "LayoutModel",
          "model_module_version": "1.2.0",
          "state": {
            "_model_module": "@jupyter-widgets/base",
            "_model_module_version": "1.2.0",
            "_model_name": "LayoutModel",
            "_view_count": null,
            "_view_module": "@jupyter-widgets/base",
            "_view_module_version": "1.2.0",
            "_view_name": "LayoutView",
            "align_content": null,
            "align_items": null,
            "align_self": null,
            "border": null,
            "bottom": null,
            "display": null,
            "flex": null,
            "flex_flow": null,
            "grid_area": null,
            "grid_auto_columns": null,
            "grid_auto_flow": null,
            "grid_auto_rows": null,
            "grid_column": null,
            "grid_gap": null,
            "grid_row": null,
            "grid_template_areas": null,
            "grid_template_columns": null,
            "grid_template_rows": null,
            "height": null,
            "justify_content": null,
            "justify_items": null,
            "left": null,
            "margin": null,
            "max_height": null,
            "max_width": null,
            "min_height": null,
            "min_width": null,
            "object_fit": null,
            "object_position": null,
            "order": null,
            "overflow": null,
            "overflow_x": null,
            "overflow_y": null,
            "padding": null,
            "right": null,
            "top": null,
            "visibility": null,
            "width": "20px"
          }
        },
        "c91dbab94bad4a1c9acec6b73540e21e": {
          "model_module": "@jupyter-widgets/controls",
          "model_name": "ProgressStyleModel",
          "model_module_version": "1.5.0",
          "state": {
            "_model_module": "@jupyter-widgets/controls",
            "_model_module_version": "1.5.0",
            "_model_name": "ProgressStyleModel",
            "_view_count": null,
            "_view_module": "@jupyter-widgets/base",
            "_view_module_version": "1.2.0",
            "_view_name": "StyleView",
            "bar_color": null,
            "description_width": ""
          }
        },
        "8a13e484b8f5492899de7cba47ba7266": {
          "model_module": "@jupyter-widgets/base",
          "model_name": "LayoutModel",
          "model_module_version": "1.2.0",
          "state": {
            "_model_module": "@jupyter-widgets/base",
            "_model_module_version": "1.2.0",
            "_model_name": "LayoutModel",
            "_view_count": null,
            "_view_module": "@jupyter-widgets/base",
            "_view_module_version": "1.2.0",
            "_view_name": "LayoutView",
            "align_content": null,
            "align_items": null,
            "align_self": null,
            "border": null,
            "bottom": null,
            "display": null,
            "flex": null,
            "flex_flow": null,
            "grid_area": null,
            "grid_auto_columns": null,
            "grid_auto_flow": null,
            "grid_auto_rows": null,
            "grid_column": null,
            "grid_gap": null,
            "grid_row": null,
            "grid_template_areas": null,
            "grid_template_columns": null,
            "grid_template_rows": null,
            "height": null,
            "justify_content": null,
            "justify_items": null,
            "left": null,
            "margin": null,
            "max_height": null,
            "max_width": null,
            "min_height": null,
            "min_width": null,
            "object_fit": null,
            "object_position": null,
            "order": null,
            "overflow": null,
            "overflow_x": null,
            "overflow_y": null,
            "padding": null,
            "right": null,
            "top": null,
            "visibility": null,
            "width": null
          }
        },
        "009f9534a5a9465abdb90df4c674344a": {
          "model_module": "@jupyter-widgets/controls",
          "model_name": "DescriptionStyleModel",
          "model_module_version": "1.5.0",
          "state": {
            "_model_module": "@jupyter-widgets/controls",
            "_model_module_version": "1.5.0",
            "_model_name": "DescriptionStyleModel",
            "_view_count": null,
            "_view_module": "@jupyter-widgets/base",
            "_view_module_version": "1.2.0",
            "_view_name": "StyleView",
            "description_width": ""
          }
        },
        "8fcc54d060b647c18ee1ad25ae496d2c": {
          "model_module": "@jupyter-widgets/controls",
          "model_name": "HBoxModel",
          "model_module_version": "1.5.0",
          "state": {
            "_dom_classes": [],
            "_model_module": "@jupyter-widgets/controls",
            "_model_module_version": "1.5.0",
            "_model_name": "HBoxModel",
            "_view_count": null,
            "_view_module": "@jupyter-widgets/controls",
            "_view_module_version": "1.5.0",
            "_view_name": "HBoxView",
            "box_style": "",
            "children": [
              "IPY_MODEL_3705142c9da0428cb53562a7d0179f6a",
              "IPY_MODEL_d156da17c51f4bfe9707fb5209b6eb02",
              "IPY_MODEL_291e50a2b8fd44239c6260ba5432d2a3"
            ],
            "layout": "IPY_MODEL_03d0044502384758a693681e59108514"
          }
        },
        "3705142c9da0428cb53562a7d0179f6a": {
          "model_module": "@jupyter-widgets/controls",
          "model_name": "HTMLModel",
          "model_module_version": "1.5.0",
          "state": {
            "_dom_classes": [],
            "_model_module": "@jupyter-widgets/controls",
            "_model_module_version": "1.5.0",
            "_model_name": "HTMLModel",
            "_view_count": null,
            "_view_module": "@jupyter-widgets/controls",
            "_view_module_version": "1.5.0",
            "_view_name": "HTMLView",
            "description": "",
            "description_tooltip": null,
            "layout": "IPY_MODEL_78a305ccca4c4c238532f9eca015f637",
            "placeholder": "​",
            "style": "IPY_MODEL_7699c1515ac948e292dfd452f27be4a5",
            "value": "Downloading (…)olve/main/merges.txt: "
          }
        },
        "d156da17c51f4bfe9707fb5209b6eb02": {
          "model_module": "@jupyter-widgets/controls",
          "model_name": "FloatProgressModel",
          "model_module_version": "1.5.0",
          "state": {
            "_dom_classes": [],
            "_model_module": "@jupyter-widgets/controls",
            "_model_module_version": "1.5.0",
            "_model_name": "FloatProgressModel",
            "_view_count": null,
            "_view_module": "@jupyter-widgets/controls",
            "_view_module_version": "1.5.0",
            "_view_name": "ProgressView",
            "bar_style": "success",
            "description": "",
            "description_tooltip": null,
            "layout": "IPY_MODEL_a3a3b6069bce4f47a0d8c84f1aad1cb3",
            "max": 1,
            "min": 0,
            "orientation": "horizontal",
            "style": "IPY_MODEL_204706b21557424582491185db073612",
            "value": 1
          }
        },
        "291e50a2b8fd44239c6260ba5432d2a3": {
          "model_module": "@jupyter-widgets/controls",
          "model_name": "HTMLModel",
          "model_module_version": "1.5.0",
          "state": {
            "_dom_classes": [],
            "_model_module": "@jupyter-widgets/controls",
            "_model_module_version": "1.5.0",
            "_model_name": "HTMLModel",
            "_view_count": null,
            "_view_module": "@jupyter-widgets/controls",
            "_view_module_version": "1.5.0",
            "_view_name": "HTMLView",
            "description": "",
            "description_tooltip": null,
            "layout": "IPY_MODEL_630b69ece8d6454982967944e5ca1f42",
            "placeholder": "​",
            "style": "IPY_MODEL_9eb77d9f117a45c5bd6b17b03a29ec67",
            "value": " 456k/? [00:00&lt;00:00, 900kB/s]"
          }
        },
        "03d0044502384758a693681e59108514": {
          "model_module": "@jupyter-widgets/base",
          "model_name": "LayoutModel",
          "model_module_version": "1.2.0",
          "state": {
            "_model_module": "@jupyter-widgets/base",
            "_model_module_version": "1.2.0",
            "_model_name": "LayoutModel",
            "_view_count": null,
            "_view_module": "@jupyter-widgets/base",
            "_view_module_version": "1.2.0",
            "_view_name": "LayoutView",
            "align_content": null,
            "align_items": null,
            "align_self": null,
            "border": null,
            "bottom": null,
            "display": null,
            "flex": null,
            "flex_flow": null,
            "grid_area": null,
            "grid_auto_columns": null,
            "grid_auto_flow": null,
            "grid_auto_rows": null,
            "grid_column": null,
            "grid_gap": null,
            "grid_row": null,
            "grid_template_areas": null,
            "grid_template_columns": null,
            "grid_template_rows": null,
            "height": null,
            "justify_content": null,
            "justify_items": null,
            "left": null,
            "margin": null,
            "max_height": null,
            "max_width": null,
            "min_height": null,
            "min_width": null,
            "object_fit": null,
            "object_position": null,
            "order": null,
            "overflow": null,
            "overflow_x": null,
            "overflow_y": null,
            "padding": null,
            "right": null,
            "top": null,
            "visibility": null,
            "width": null
          }
        },
        "78a305ccca4c4c238532f9eca015f637": {
          "model_module": "@jupyter-widgets/base",
          "model_name": "LayoutModel",
          "model_module_version": "1.2.0",
          "state": {
            "_model_module": "@jupyter-widgets/base",
            "_model_module_version": "1.2.0",
            "_model_name": "LayoutModel",
            "_view_count": null,
            "_view_module": "@jupyter-widgets/base",
            "_view_module_version": "1.2.0",
            "_view_name": "LayoutView",
            "align_content": null,
            "align_items": null,
            "align_self": null,
            "border": null,
            "bottom": null,
            "display": null,
            "flex": null,
            "flex_flow": null,
            "grid_area": null,
            "grid_auto_columns": null,
            "grid_auto_flow": null,
            "grid_auto_rows": null,
            "grid_column": null,
            "grid_gap": null,
            "grid_row": null,
            "grid_template_areas": null,
            "grid_template_columns": null,
            "grid_template_rows": null,
            "height": null,
            "justify_content": null,
            "justify_items": null,
            "left": null,
            "margin": null,
            "max_height": null,
            "max_width": null,
            "min_height": null,
            "min_width": null,
            "object_fit": null,
            "object_position": null,
            "order": null,
            "overflow": null,
            "overflow_x": null,
            "overflow_y": null,
            "padding": null,
            "right": null,
            "top": null,
            "visibility": null,
            "width": null
          }
        },
        "7699c1515ac948e292dfd452f27be4a5": {
          "model_module": "@jupyter-widgets/controls",
          "model_name": "DescriptionStyleModel",
          "model_module_version": "1.5.0",
          "state": {
            "_model_module": "@jupyter-widgets/controls",
            "_model_module_version": "1.5.0",
            "_model_name": "DescriptionStyleModel",
            "_view_count": null,
            "_view_module": "@jupyter-widgets/base",
            "_view_module_version": "1.2.0",
            "_view_name": "StyleView",
            "description_width": ""
          }
        },
        "a3a3b6069bce4f47a0d8c84f1aad1cb3": {
          "model_module": "@jupyter-widgets/base",
          "model_name": "LayoutModel",
          "model_module_version": "1.2.0",
          "state": {
            "_model_module": "@jupyter-widgets/base",
            "_model_module_version": "1.2.0",
            "_model_name": "LayoutModel",
            "_view_count": null,
            "_view_module": "@jupyter-widgets/base",
            "_view_module_version": "1.2.0",
            "_view_name": "LayoutView",
            "align_content": null,
            "align_items": null,
            "align_self": null,
            "border": null,
            "bottom": null,
            "display": null,
            "flex": null,
            "flex_flow": null,
            "grid_area": null,
            "grid_auto_columns": null,
            "grid_auto_flow": null,
            "grid_auto_rows": null,
            "grid_column": null,
            "grid_gap": null,
            "grid_row": null,
            "grid_template_areas": null,
            "grid_template_columns": null,
            "grid_template_rows": null,
            "height": null,
            "justify_content": null,
            "justify_items": null,
            "left": null,
            "margin": null,
            "max_height": null,
            "max_width": null,
            "min_height": null,
            "min_width": null,
            "object_fit": null,
            "object_position": null,
            "order": null,
            "overflow": null,
            "overflow_x": null,
            "overflow_y": null,
            "padding": null,
            "right": null,
            "top": null,
            "visibility": null,
            "width": "20px"
          }
        },
        "204706b21557424582491185db073612": {
          "model_module": "@jupyter-widgets/controls",
          "model_name": "ProgressStyleModel",
          "model_module_version": "1.5.0",
          "state": {
            "_model_module": "@jupyter-widgets/controls",
            "_model_module_version": "1.5.0",
            "_model_name": "ProgressStyleModel",
            "_view_count": null,
            "_view_module": "@jupyter-widgets/base",
            "_view_module_version": "1.2.0",
            "_view_name": "StyleView",
            "bar_color": null,
            "description_width": ""
          }
        },
        "630b69ece8d6454982967944e5ca1f42": {
          "model_module": "@jupyter-widgets/base",
          "model_name": "LayoutModel",
          "model_module_version": "1.2.0",
          "state": {
            "_model_module": "@jupyter-widgets/base",
            "_model_module_version": "1.2.0",
            "_model_name": "LayoutModel",
            "_view_count": null,
            "_view_module": "@jupyter-widgets/base",
            "_view_module_version": "1.2.0",
            "_view_name": "LayoutView",
            "align_content": null,
            "align_items": null,
            "align_self": null,
            "border": null,
            "bottom": null,
            "display": null,
            "flex": null,
            "flex_flow": null,
            "grid_area": null,
            "grid_auto_columns": null,
            "grid_auto_flow": null,
            "grid_auto_rows": null,
            "grid_column": null,
            "grid_gap": null,
            "grid_row": null,
            "grid_template_areas": null,
            "grid_template_columns": null,
            "grid_template_rows": null,
            "height": null,
            "justify_content": null,
            "justify_items": null,
            "left": null,
            "margin": null,
            "max_height": null,
            "max_width": null,
            "min_height": null,
            "min_width": null,
            "object_fit": null,
            "object_position": null,
            "order": null,
            "overflow": null,
            "overflow_x": null,
            "overflow_y": null,
            "padding": null,
            "right": null,
            "top": null,
            "visibility": null,
            "width": null
          }
        },
        "9eb77d9f117a45c5bd6b17b03a29ec67": {
          "model_module": "@jupyter-widgets/controls",
          "model_name": "DescriptionStyleModel",
          "model_module_version": "1.5.0",
          "state": {
            "_model_module": "@jupyter-widgets/controls",
            "_model_module_version": "1.5.0",
            "_model_name": "DescriptionStyleModel",
            "_view_count": null,
            "_view_module": "@jupyter-widgets/base",
            "_view_module_version": "1.2.0",
            "_view_name": "StyleView",
            "description_width": ""
          }
        }
      }
    }
  },
  "cells": [
    {
      "cell_type": "code",
      "source": [
        "f=open('text.txt','r',encoding='latin1')\n",
        "f1=f.readlines()\n",
        "contents=[]\n",
        "for line in f1:\n",
        "  contents.append(line)\n"
      ],
      "metadata": {
        "id": "VJybC7g1FwMM"
      },
      "execution_count": null,
      "outputs": []
    },
    {
      "cell_type": "code",
      "source": [
        "contents"
      ],
      "metadata": {
        "id": "kn6ltvCcGJgE",
        "colab": {
          "base_uri": "https://localhost:8080/"
        },
        "outputId": "17387f22-0580-433e-cfbf-b0564536908f"
      },
      "execution_count": null,
      "outputs": [
        {
          "output_type": "execute_result",
          "data": {
            "text/plain": [
              "[\"World's leading luxury goods maker Gucci is looking to multiplying its presence in the country by 2010 as it plans to develop India as a key global market.\\n\",\n",
              " 'The company forayed India late last year. Today, it has two stores in the country. Gucciâ\\x80\\x99s plan is to end the year with four stores. And, in three years, it may double the number.  â\\x80\\x9cWe are quiet interested in India, which is an emerging market with a gifting culture and a lot of awareness among the sophisticated customers. Step by step, we intend to build India a key market. By 2008-end, Gucci will have four stores in India,\" Gucci CEO Mark Lee said. He also said that, besides the two existing outlets (one in Mumbai and the other in Delhi), the company in partnership with the Mumbai-based Murjani Group will open a third store in Delhi and a fourth one in Bangalore this year itself.\\n',\n",
              " '\\n',\n",
              " 'Murjani Group, the master franchisee of Gucci in India, will be opening the other two stores. \"The plan is to double the number of stores that we will be having in 2008.â\\x80\\x9d Asked about the investments, Murjani, without disclosing specific details, said, \"There is a substantial amount of investment, which has already been made and will be made in future. But, it will be less than $ 100 million ( approximately Rs 400 million)\" He said that there will be, by 2010,  at least eight Gucci outlets housing collections of men\\'s and women\\'s ready-to-wear, handbags, shoes, watches, sunglasses, jewellery, small leather goods, gifting items and other accessories in major metros.\\n',\n",
              " '\\n',\n",
              " 'Globally, the Gucci brand, which is associated with handbags and watches, sells high-quality luxury goods through directly operated stores, franchised stores, boutiques, duty-free shops and departmental stores. The Murjani group, headquartered in New York, has been instrumental in developing and launching some of the most well-recognised international designer lifestyle brands like Tommy Hilfiger and Gloria Vanderbilt. The Group will focus primarily on creating a multi-brand platform in India.\\n',\n",
              " '\\n',\n",
              " ' \\n',\n",
              " '\\n',\n",
              " ' \\n',\n",
              " '\\n',\n",
              " 'Interview with Mark Lee, CEO, Gucci\\n',\n",
              " '\\n',\n",
              " 'Attractiveness of present day luxury brands is making a lot of money pumped into emerging markets like India. Mark Lee, during a brief interaction with the Retailer, says that India has the highest percentage of customers who prefer Gucci to other brands\\n',\n",
              " '\\n',\n",
              " ' \\n',\n",
              " '\\n',\n",
              " 'Retailer: How do you see the luxury retail market in India?\\n',\n",
              " '\\n',\n",
              " 'Mark Lee (ML): Last year, we had an opportunity to enter Indian luxury market. It is the beginning for us in India. At present, Gucci has two outlets, one each in Mumbai and Delhi. We will open the third store in Delhi and the fourth in Bangalore this year itself.\\n',\n",
              " '\\n',\n",
              " ' \\n',\n",
              " '\\n',\n",
              " 'Retailer: How do you see Indiaâ\\x80\\x99s demand for luxury goods in comparison to other emerging global markets?\\n',\n",
              " '\\n',\n",
              " 'ML: Gucci is the most coveted brand in the world. Worldwide, every fifth consumer said that money would be no â\\x80\\x98objectâ\\x80\\x99 and he would go for Gucci. And, the highest number of persons who chose Gucci belong to India.  \\n',\n",
              " '\\n',\n",
              " ' \\n',\n",
              " '\\n',\n",
              " 'Retailer: How do you see Gucciâ\\x80\\x99s development in India?\\n',\n",
              " '\\n',\n",
              " 'ML:  In the current financial year, Gucci plans to open at least four new stores. Gucci is 87 years old brand and India, of course, has incredible history. It is a question of putting these two values together and letting them mature or grow fully. All of our products are made in Italy. And, Indian customers want to have the same Gucci experience in terms of quality, product, design and service as delivered in other stores around the world.\\n',\n",
              " '\\n',\n",
              " ' \\n',\n",
              " '\\n',\n",
              " 'Retailer: What is the size of Gucci stores in India?\\n',\n",
              " '\\n',\n",
              " 'ML: Gucciâ\\x80\\x99s Mumbai store, which is 350 sq.mts, is the largest single luxury goods store in the Indian market. It is a full range store that offers all of our products like leather goods, footwear and ready-to-wear menswear and women wear. The size of Delhi store is quite small.\\n',\n",
              " '\\n',\n",
              " ' \\n',\n",
              " '\\n',\n",
              " 'Retailer: How many new stores are coming up in the next five years?\\n',\n",
              " '\\n',\n",
              " \"ML: We plan to have a few more new Gucci outlets in major metros. These stores will offer men's and women's ready-to-wear, handbags, shoes, watches and other accessories.\\n\",\n",
              " '\\n',\n",
              " ' \\n',\n",
              " '\\n',\n",
              " 'Retailer: What is the range of products offered?\\n',\n",
              " '\\n',\n",
              " 'ML: Gucciâ\\x80\\x99s main business, which represents 54 per cent of all its business, deals in leather goods. Besides this, there is tremendous scope and success of footwear and ready to wear clothing. In the last three years, Gucci have grown the brand by 46 per cent. In 2007, leather goods grew over nine per cent while footwear and ready-to-wear is growing in the range of 20 per cent.\\n',\n",
              " '\\n',\n",
              " ' \\n',\n",
              " '\\n',\n",
              " 'Retailer:  What is the scale of Gucci in terms of revenue?\\n',\n",
              " '\\n',\n",
              " 'ML: On a global basis, Gucciâ\\x80\\x99s revenue reached almost 2.2 billion euros (approximately Rs 138.6 billion) and 70 per cent of the revenue comes from stores that we own and operate ourselves.\\n',\n",
              " '\\n',\n",
              " ' \\n',\n",
              " '\\n',\n",
              " 'Retailer: What do you think about â\\x80\\x98real estateâ\\x80\\x99 in emerging markets like India?\\n',\n",
              " '\\n',\n",
              " 'ML: I think the real estate is the top challenge. As the Nielsen study has proved that 41 per cent of Indians would choose Gucci, there is awareness about the Gucci brand. It is less about problems and more about opportunities. Weâ\\x80\\x99re quite excited about medium and long range potential and we plan to develop step by step in the Indian market.\\n',\n",
              " '\\n',\n",
              " ' \\n',\n",
              " '\\n',\n",
              " 'Retailer: Are you also looking to incorporate any of traditional Indian wear in your collection?\\n',\n",
              " '\\n',\n",
              " 'ML: At present, we have not incorporated any of them. But, we are talking about turbans and some of the local garments and, for the time being, we leave this as an open thought.']"
            ]
          },
          "metadata": {},
          "execution_count": 20
        }
      ]
    },
    {
      "cell_type": "code",
      "source": [
        "text = ' '.join([str(elem) for elem in contents])"
      ],
      "metadata": {
        "id": "2DvwyuicdchM"
      },
      "execution_count": null,
      "outputs": []
    },
    {
      "cell_type": "code",
      "source": [
        "text"
      ],
      "metadata": {
        "colab": {
          "base_uri": "https://localhost:8080/",
          "height": 145
        },
        "id": "Aqu1wzlqdmpF",
        "outputId": "1c41cc6a-7ddc-4c24-f0bd-606fd5fcb217"
      },
      "execution_count": null,
      "outputs": [
        {
          "output_type": "execute_result",
          "data": {
            "text/plain": [
              "'World\\'s leading luxury goods maker Gucci is looking to multiplying its presence in the country by 2010 as it plans to develop India as a key global market.\\n The company forayed India late last year. Today, it has two stores in the country. Gucciâ\\x80\\x99s plan is to end the year with four stores. And, in three years, it may double the number.  â\\x80\\x9cWe are quiet interested in India, which is an emerging market with a gifting culture and a lot of awareness among the sophisticated customers. Step by step, we intend to build India a key market. By 2008-end, Gucci will have four stores in India,\" Gucci CEO Mark Lee said. He also said that, besides the two existing outlets (one in Mumbai and the other in Delhi), the company in partnership with the Mumbai-based Murjani Group will open a third store in Delhi and a fourth one in Bangalore this year itself.\\n \\n Murjani Group, the master franchisee of Gucci in India, will be opening the other two stores. \"The plan is to double the number of stores that we will be having in 2008.â\\x80\\x9d Asked about the investments, Murjani, without disclosing specific details, said, \"There is a substantial amount of investment, which has already been made and will be made in future. But, it will be less than $ 100 million ( approximately Rs 400 million)\" He said that there will be, by 2010,  at least eight Gucci outlets housing collections of men\\'s and women\\'s ready-to-wear, handbags, shoes, watches, sunglasses, jewellery, small leather goods, gifting items and other accessories in major metros.\\n \\n Globally, the Gucci brand, which is associated with handbags and watches, sells high-quality luxury goods through directly operated stores, franchised stores, boutiques, duty-free shops and departmental stores. The Murjani group, headquartered in New York, has been instrumental in developing and launching some of the most well-recognised international designer lifestyle brands like Tommy Hilfiger and Gloria Vanderbilt. The Group will focus primarily on creating a multi-brand platform in India.\\n \\n  \\n \\n  \\n \\n Interview with Mark Lee, CEO, Gucci\\n \\n Attractiveness of present day luxury brands is making a lot of money pumped into emerging markets like India. Mark Lee, during a brief interaction with the Retailer, says that India has the highest percentage of customers who prefer Gucci to other brands\\n \\n  \\n \\n Retailer: How do you see the luxury retail market in India?\\n \\n Mark Lee (ML): Last year, we had an opportunity to enter Indian luxury market. It is the beginning for us in India. At present, Gucci has two outlets, one each in Mumbai and Delhi. We will open the third store in Delhi and the fourth in Bangalore this year itself.\\n \\n  \\n \\n Retailer: How do you see Indiaâ\\x80\\x99s demand for luxury goods in comparison to other emerging global markets?\\n \\n ML: Gucci is the most coveted brand in the world. Worldwide, every fifth consumer said that money would be no â\\x80\\x98objectâ\\x80\\x99 and he would go for Gucci. And, the highest number of persons who chose Gucci belong to India.  \\n \\n  \\n \\n Retailer: How do you see Gucciâ\\x80\\x99s development in India?\\n \\n ML:  In the current financial year, Gucci plans to open at least four new stores. Gucci is 87 years old brand and India, of course, has incredible history. It is a question of putting these two values together and letting them mature or grow fully. All of our products are made in Italy. And, Indian customers want to have the same Gucci experience in terms of quality, product, design and service as delivered in other stores around the world.\\n \\n  \\n \\n Retailer: What is the size of Gucci stores in India?\\n \\n ML: Gucciâ\\x80\\x99s Mumbai store, which is 350 sq.mts, is the largest single luxury goods store in the Indian market. It is a full range store that offers all of our products like leather goods, footwear and ready-to-wear menswear and women wear. The size of Delhi store is quite small.\\n \\n  \\n \\n Retailer: How many new stores are coming up in the next five years?\\n \\n ML: We plan to have a few more new Gucci outlets in major metros. These stores will offer men\\'s and women\\'s ready-to-wear, handbags, shoes, watches and other accessories.\\n \\n  \\n \\n Retailer: What is the range of products offered?\\n \\n ML: Gucciâ\\x80\\x99s main business, which represents 54 per cent of all its business, deals in leather goods. Besides this, there is tremendous scope and success of footwear and ready to wear clothing. In the last three years, Gucci have grown the brand by 46 per cent. In 2007, leather goods grew over nine per cent while footwear and ready-to-wear is growing in the range of 20 per cent.\\n \\n  \\n \\n Retailer:  What is the scale of Gucci in terms of revenue?\\n \\n ML: On a global basis, Gucciâ\\x80\\x99s revenue reached almost 2.2 billion euros (approximately Rs 138.6 billion) and 70 per cent of the revenue comes from stores that we own and operate ourselves.\\n \\n  \\n \\n Retailer: What do you think about â\\x80\\x98real estateâ\\x80\\x99 in emerging markets like India?\\n \\n ML: I think the real estate is the top challenge. As the Nielsen study has proved that 41 per cent of Indians would choose Gucci, there is awareness about the Gucci brand. It is less about problems and more about opportunities. Weâ\\x80\\x99re quite excited about medium and long range potential and we plan to develop step by step in the Indian market.\\n \\n  \\n \\n Retailer: Are you also looking to incorporate any of traditional Indian wear in your collection?\\n \\n ML: At present, we have not incorporated any of them. But, we are talking about turbans and some of the local garments and, for the time being, we leave this as an open thought.'"
            ],
            "application/vnd.google.colaboratory.intrinsic+json": {
              "type": "string"
            }
          },
          "metadata": {},
          "execution_count": 10
        }
      ]
    },
    {
      "cell_type": "code",
      "source": [
        "text=text.replace(\"x91\",\"'\")\n",
        "text=text.replace(\"x92\",\"'\")\n",
        "text"
      ],
      "metadata": {
        "colab": {
          "base_uri": "https://localhost:8080/",
          "height": 145
        },
        "id": "Y4tuoH8Hdng0",
        "outputId": "65309957-c6d0-467a-e104-8ace1e68c459"
      },
      "execution_count": null,
      "outputs": [
        {
          "output_type": "execute_result",
          "data": {
            "text/plain": [
              "'World\\'s leading luxury goods maker Gucci is looking to multiplying its presence in the country by 2010 as it plans to develop India as a key global market.\\n The company forayed India late last year. Today, it has two stores in the country. Gucciâ\\x80\\x99s plan is to end the year with four stores. And, in three years, it may double the number.  â\\x80\\x9cWe are quiet interested in India, which is an emerging market with a gifting culture and a lot of awareness among the sophisticated customers. Step by step, we intend to build India a key market. By 2008-end, Gucci will have four stores in India,\" Gucci CEO Mark Lee said. He also said that, besides the two existing outlets (one in Mumbai and the other in Delhi), the company in partnership with the Mumbai-based Murjani Group will open a third store in Delhi and a fourth one in Bangalore this year itself.\\n \\n Murjani Group, the master franchisee of Gucci in India, will be opening the other two stores. \"The plan is to double the number of stores that we will be having in 2008.â\\x80\\x9d Asked about the investments, Murjani, without disclosing specific details, said, \"There is a substantial amount of investment, which has already been made and will be made in future. But, it will be less than $ 100 million ( approximately Rs 400 million)\" He said that there will be, by 2010,  at least eight Gucci outlets housing collections of men\\'s and women\\'s ready-to-wear, handbags, shoes, watches, sunglasses, jewellery, small leather goods, gifting items and other accessories in major metros.\\n \\n Globally, the Gucci brand, which is associated with handbags and watches, sells high-quality luxury goods through directly operated stores, franchised stores, boutiques, duty-free shops and departmental stores. The Murjani group, headquartered in New York, has been instrumental in developing and launching some of the most well-recognised international designer lifestyle brands like Tommy Hilfiger and Gloria Vanderbilt. The Group will focus primarily on creating a multi-brand platform in India.\\n \\n  \\n \\n  \\n \\n Interview with Mark Lee, CEO, Gucci\\n \\n Attractiveness of present day luxury brands is making a lot of money pumped into emerging markets like India. Mark Lee, during a brief interaction with the Retailer, says that India has the highest percentage of customers who prefer Gucci to other brands\\n \\n  \\n \\n Retailer: How do you see the luxury retail market in India?\\n \\n Mark Lee (ML): Last year, we had an opportunity to enter Indian luxury market. It is the beginning for us in India. At present, Gucci has two outlets, one each in Mumbai and Delhi. We will open the third store in Delhi and the fourth in Bangalore this year itself.\\n \\n  \\n \\n Retailer: How do you see Indiaâ\\x80\\x99s demand for luxury goods in comparison to other emerging global markets?\\n \\n ML: Gucci is the most coveted brand in the world. Worldwide, every fifth consumer said that money would be no â\\x80\\x98objectâ\\x80\\x99 and he would go for Gucci. And, the highest number of persons who chose Gucci belong to India.  \\n \\n  \\n \\n Retailer: How do you see Gucciâ\\x80\\x99s development in India?\\n \\n ML:  In the current financial year, Gucci plans to open at least four new stores. Gucci is 87 years old brand and India, of course, has incredible history. It is a question of putting these two values together and letting them mature or grow fully. All of our products are made in Italy. And, Indian customers want to have the same Gucci experience in terms of quality, product, design and service as delivered in other stores around the world.\\n \\n  \\n \\n Retailer: What is the size of Gucci stores in India?\\n \\n ML: Gucciâ\\x80\\x99s Mumbai store, which is 350 sq.mts, is the largest single luxury goods store in the Indian market. It is a full range store that offers all of our products like leather goods, footwear and ready-to-wear menswear and women wear. The size of Delhi store is quite small.\\n \\n  \\n \\n Retailer: How many new stores are coming up in the next five years?\\n \\n ML: We plan to have a few more new Gucci outlets in major metros. These stores will offer men\\'s and women\\'s ready-to-wear, handbags, shoes, watches and other accessories.\\n \\n  \\n \\n Retailer: What is the range of products offered?\\n \\n ML: Gucciâ\\x80\\x99s main business, which represents 54 per cent of all its business, deals in leather goods. Besides this, there is tremendous scope and success of footwear and ready to wear clothing. In the last three years, Gucci have grown the brand by 46 per cent. In 2007, leather goods grew over nine per cent while footwear and ready-to-wear is growing in the range of 20 per cent.\\n \\n  \\n \\n Retailer:  What is the scale of Gucci in terms of revenue?\\n \\n ML: On a global basis, Gucciâ\\x80\\x99s revenue reached almost 2.2 billion euros (approximately Rs 138.6 billion) and 70 per cent of the revenue comes from stores that we own and operate ourselves.\\n \\n  \\n \\n Retailer: What do you think about â\\x80\\x98real estateâ\\x80\\x99 in emerging markets like India?\\n \\n ML: I think the real estate is the top challenge. As the Nielsen study has proved that 41 per cent of Indians would choose Gucci, there is awareness about the Gucci brand. It is less about problems and more about opportunities. Weâ\\x80\\x99re quite excited about medium and long range potential and we plan to develop step by step in the Indian market.\\n \\n  \\n \\n Retailer: Are you also looking to incorporate any of traditional Indian wear in your collection?\\n \\n ML: At present, we have not incorporated any of them. But, we are talking about turbans and some of the local garments and, for the time being, we leave this as an open thought.'"
            ],
            "application/vnd.google.colaboratory.intrinsic+json": {
              "type": "string"
            }
          },
          "metadata": {},
          "execution_count": 11
        }
      ]
    },
    {
      "cell_type": "code",
      "source": [
        "len(text)"
      ],
      "metadata": {
        "colab": {
          "base_uri": "https://localhost:8080/"
        },
        "id": "Uod-pE66dvNh",
        "outputId": "18807ce7-4f1a-4172-cd28-cba76c30fcc3"
      },
      "execution_count": null,
      "outputs": [
        {
          "output_type": "execute_result",
          "data": {
            "text/plain": [
              "5551"
            ]
          },
          "metadata": {},
          "execution_count": 12
        }
      ]
    },
    {
      "cell_type": "code",
      "source": [
        "f=len(text.split())\n",
        "print (\"The number of words in the given text is : \" +  str(f))"
      ],
      "metadata": {
        "colab": {
          "base_uri": "https://localhost:8080/"
        },
        "id": "Kcy0AosBdy21",
        "outputId": "9ec7bead-2790-4be0-e9f9-dcc635be7742"
      },
      "execution_count": null,
      "outputs": [
        {
          "output_type": "stream",
          "name": "stdout",
          "text": [
            "The number of words in the given text is : 927\n"
          ]
        }
      ]
    },
    {
      "cell_type": "code",
      "source": [
        "import spacy\n",
        "from spacy.lang.en.stop_words import STOP_WORDS\n",
        "from string import punctuation"
      ],
      "metadata": {
        "id": "NCsLbQbYd3Cj"
      },
      "execution_count": null,
      "outputs": []
    },
    {
      "cell_type": "code",
      "source": [
        "nlp= spacy.load(\"en_core_web_sm\")"
      ],
      "metadata": {
        "id": "KjLsQ68Gd61h"
      },
      "execution_count": null,
      "outputs": []
    },
    {
      "cell_type": "code",
      "source": [
        "doc=nlp(text)"
      ],
      "metadata": {
        "id": "PrZ5QLAheAfq"
      },
      "execution_count": null,
      "outputs": []
    },
    {
      "cell_type": "code",
      "source": [
        "tokens=[token.text for token in doc]\n",
        "print(tokens)"
      ],
      "metadata": {
        "colab": {
          "base_uri": "https://localhost:8080/"
        },
        "id": "hg4TQE1xeDmF",
        "outputId": "f39efa9e-09d1-4f67-cdf9-c03503a2d679"
      },
      "execution_count": null,
      "outputs": [
        {
          "output_type": "stream",
          "name": "stdout",
          "text": [
            "['World', \"'s\", 'leading', 'luxury', 'goods', 'maker', 'Gucci', 'is', 'looking', 'to', 'multiplying', 'its', 'presence', 'in', 'the', 'country', 'by', '2010', 'as', 'it', 'plans', 'to', 'develop', 'India', 'as', 'a', 'key', 'global', 'market', '.', '\\n ', 'The', 'company', 'forayed', 'India', 'late', 'last', 'year', '.', 'Today', ',', 'it', 'has', 'two', 'stores', 'in', 'the', 'country', '.', 'Gucciâ\\x80\\x99s', 'plan', 'is', 'to', 'end', 'the', 'year', 'with', 'four', 'stores', '.', 'And', ',', 'in', 'three', 'years', ',', 'it', 'may', 'double', 'the', 'number', '.', ' ', 'â\\x80\\x9cWe', 'are', 'quiet', 'interested', 'in', 'India', ',', 'which', 'is', 'an', 'emerging', 'market', 'with', 'a', 'gifting', 'culture', 'and', 'a', 'lot', 'of', 'awareness', 'among', 'the', 'sophisticated', 'customers', '.', 'Step', 'by', 'step', ',', 'we', 'intend', 'to', 'build', 'India', 'a', 'key', 'market', '.', 'By', '2008', '-', 'end', ',', 'Gucci', 'will', 'have', 'four', 'stores', 'in', 'India', ',', '\"', 'Gucci', 'CEO', 'Mark', 'Lee', 'said', '.', 'He', 'also', 'said', 'that', ',', 'besides', 'the', 'two', 'existing', 'outlets', '(', 'one', 'in', 'Mumbai', 'and', 'the', 'other', 'in', 'Delhi', ')', ',', 'the', 'company', 'in', 'partnership', 'with', 'the', 'Mumbai', '-', 'based', 'Murjani', 'Group', 'will', 'open', 'a', 'third', 'store', 'in', 'Delhi', 'and', 'a', 'fourth', 'one', 'in', 'Bangalore', 'this', 'year', 'itself', '.', '\\n \\n ', 'Murjani', 'Group', ',', 'the', 'master', 'franchisee', 'of', 'Gucci', 'in', 'India', ',', 'will', 'be', 'opening', 'the', 'other', 'two', 'stores', '.', '\"', 'The', 'plan', 'is', 'to', 'double', 'the', 'number', 'of', 'stores', 'that', 'we', 'will', 'be', 'having', 'in', '2008.â\\x80\\x9d', 'Asked', 'about', 'the', 'investments', ',', 'Murjani', ',', 'without', 'disclosing', 'specific', 'details', ',', 'said', ',', '\"', 'There', 'is', 'a', 'substantial', 'amount', 'of', 'investment', ',', 'which', 'has', 'already', 'been', 'made', 'and', 'will', 'be', 'made', 'in', 'future', '.', 'But', ',', 'it', 'will', 'be', 'less', 'than', '$', '100', 'million', '(', 'approximately', 'Rs', '400', 'million', ')', '\"', 'He', 'said', 'that', 'there', 'will', 'be', ',', 'by', '2010', ',', ' ', 'at', 'least', 'eight', 'Gucci', 'outlets', 'housing', 'collections', 'of', 'men', \"'s\", 'and', 'women', \"'s\", 'ready', '-', 'to', '-', 'wear', ',', 'handbags', ',', 'shoes', ',', 'watches', ',', 'sunglasses', ',', 'jewellery', ',', 'small', 'leather', 'goods', ',', 'gifting', 'items', 'and', 'other', 'accessories', 'in', 'major', 'metros', '.', '\\n \\n ', 'Globally', ',', 'the', 'Gucci', 'brand', ',', 'which', 'is', 'associated', 'with', 'handbags', 'and', 'watches', ',', 'sells', 'high', '-', 'quality', 'luxury', 'goods', 'through', 'directly', 'operated', 'stores', ',', 'franchised', 'stores', ',', 'boutiques', ',', 'duty', '-', 'free', 'shops', 'and', 'departmental', 'stores', '.', 'The', 'Murjani', 'group', ',', 'headquartered', 'in', 'New', 'York', ',', 'has', 'been', 'instrumental', 'in', 'developing', 'and', 'launching', 'some', 'of', 'the', 'most', 'well', '-', 'recognised', 'international', 'designer', 'lifestyle', 'brands', 'like', 'Tommy', 'Hilfiger', 'and', 'Gloria', 'Vanderbilt', '.', 'The', 'Group', 'will', 'focus', 'primarily', 'on', 'creating', 'a', 'multi', '-', 'brand', 'platform', 'in', 'India', '.', '\\n \\n  \\n \\n  \\n \\n ', 'Interview', 'with', 'Mark', 'Lee', ',', 'CEO', ',', 'Gucci', '\\n \\n ', 'Attractiveness', 'of', 'present', 'day', 'luxury', 'brands', 'is', 'making', 'a', 'lot', 'of', 'money', 'pumped', 'into', 'emerging', 'markets', 'like', 'India', '.', 'Mark', 'Lee', ',', 'during', 'a', 'brief', 'interaction', 'with', 'the', 'Retailer', ',', 'says', 'that', 'India', 'has', 'the', 'highest', 'percentage', 'of', 'customers', 'who', 'prefer', 'Gucci', 'to', 'other', 'brands', '\\n \\n  \\n \\n ', 'Retailer', ':', 'How', 'do', 'you', 'see', 'the', 'luxury', 'retail', 'market', 'in', 'India', '?', '\\n \\n ', 'Mark', 'Lee', '(', 'ML', '):', 'Last', 'year', ',', 'we', 'had', 'an', 'opportunity', 'to', 'enter', 'Indian', 'luxury', 'market', '.', 'It', 'is', 'the', 'beginning', 'for', 'us', 'in', 'India', '.', 'At', 'present', ',', 'Gucci', 'has', 'two', 'outlets', ',', 'one', 'each', 'in', 'Mumbai', 'and', 'Delhi', '.', 'We', 'will', 'open', 'the', 'third', 'store', 'in', 'Delhi', 'and', 'the', 'fourth', 'in', 'Bangalore', 'this', 'year', 'itself', '.', '\\n \\n  \\n \\n ', 'Retailer', ':', 'How', 'do', 'you', 'see', 'Indiaâ\\x80\\x99s', 'demand', 'for', 'luxury', 'goods', 'in', 'comparison', 'to', 'other', 'emerging', 'global', 'markets', '?', '\\n \\n ', 'ML', ':', 'Gucci', 'is', 'the', 'most', 'coveted', 'brand', 'in', 'the', 'world', '.', 'Worldwide', ',', 'every', 'fifth', 'consumer', 'said', 'that', 'money', 'would', 'be', 'no', 'â\\x80\\x98objectâ\\x80\\x99', 'and', 'he', 'would', 'go', 'for', 'Gucci', '.', 'And', ',', 'the', 'highest', 'number', 'of', 'persons', 'who', 'chose', 'Gucci', 'belong', 'to', 'India', '.', ' \\n \\n  \\n \\n ', 'Retailer', ':', 'How', 'do', 'you', 'see', 'Gucciâ\\x80\\x99s', 'development', 'in', 'India', '?', '\\n \\n ', 'ML', ':', ' ', 'In', 'the', 'current', 'financial', 'year', ',', 'Gucci', 'plans', 'to', 'open', 'at', 'least', 'four', 'new', 'stores', '.', 'Gucci', 'is', '87', 'years', 'old', 'brand', 'and', 'India', ',', 'of', 'course', ',', 'has', 'incredible', 'history', '.', 'It', 'is', 'a', 'question', 'of', 'putting', 'these', 'two', 'values', 'together', 'and', 'letting', 'them', 'mature', 'or', 'grow', 'fully', '.', 'All', 'of', 'our', 'products', 'are', 'made', 'in', 'Italy', '.', 'And', ',', 'Indian', 'customers', 'want', 'to', 'have', 'the', 'same', 'Gucci', 'experience', 'in', 'terms', 'of', 'quality', ',', 'product', ',', 'design', 'and', 'service', 'as', 'delivered', 'in', 'other', 'stores', 'around', 'the', 'world', '.', '\\n \\n  \\n \\n ', 'Retailer', ':', 'What', 'is', 'the', 'size', 'of', 'Gucci', 'stores', 'in', 'India', '?', '\\n \\n ', 'ML', ':', 'Gucciâ\\x80\\x99s', 'Mumbai', 'store', ',', 'which', 'is', '350', 'sq.mts', ',', 'is', 'the', 'largest', 'single', 'luxury', 'goods', 'store', 'in', 'the', 'Indian', 'market', '.', 'It', 'is', 'a', 'full', 'range', 'store', 'that', 'offers', 'all', 'of', 'our', 'products', 'like', 'leather', 'goods', ',', 'footwear', 'and', 'ready', '-', 'to', '-', 'wear', 'menswear', 'and', 'women', 'wear', '.', 'The', 'size', 'of', 'Delhi', 'store', 'is', 'quite', 'small', '.', '\\n \\n  \\n \\n ', 'Retailer', ':', 'How', 'many', 'new', 'stores', 'are', 'coming', 'up', 'in', 'the', 'next', 'five', 'years', '?', '\\n \\n ', 'ML', ':', 'We', 'plan', 'to', 'have', 'a', 'few', 'more', 'new', 'Gucci', 'outlets', 'in', 'major', 'metros', '.', 'These', 'stores', 'will', 'offer', 'men', \"'s\", 'and', 'women', \"'s\", 'ready', '-', 'to', '-', 'wear', ',', 'handbags', ',', 'shoes', ',', 'watches', 'and', 'other', 'accessories', '.', '\\n \\n  \\n \\n ', 'Retailer', ':', 'What', 'is', 'the', 'range', 'of', 'products', 'offered', '?', '\\n \\n ', 'ML', ':', 'Gucciâ\\x80\\x99s', 'main', 'business', ',', 'which', 'represents', '54', 'per', 'cent', 'of', 'all', 'its', 'business', ',', 'deals', 'in', 'leather', 'goods', '.', 'Besides', 'this', ',', 'there', 'is', 'tremendous', 'scope', 'and', 'success', 'of', 'footwear', 'and', 'ready', 'to', 'wear', 'clothing', '.', 'In', 'the', 'last', 'three', 'years', ',', 'Gucci', 'have', 'grown', 'the', 'brand', 'by', '46', 'per', 'cent', '.', 'In', '2007', ',', 'leather', 'goods', 'grew', 'over', 'nine', 'per', 'cent', 'while', 'footwear', 'and', 'ready', '-', 'to', '-', 'wear', 'is', 'growing', 'in', 'the', 'range', 'of', '20', 'per', 'cent', '.', '\\n \\n  \\n \\n ', 'Retailer', ':', ' ', 'What', 'is', 'the', 'scale', 'of', 'Gucci', 'in', 'terms', 'of', 'revenue', '?', '\\n \\n ', 'ML', ':', 'On', 'a', 'global', 'basis', ',', 'Gucciâ\\x80\\x99s', 'revenue', 'reached', 'almost', '2.2', 'billion', 'euros', '(', 'approximately', 'Rs', '138.6', 'billion', ')', 'and', '70', 'per', 'cent', 'of', 'the', 'revenue', 'comes', 'from', 'stores', 'that', 'we', 'own', 'and', 'operate', 'ourselves', '.', '\\n \\n  \\n \\n ', 'Retailer', ':', 'What', 'do', 'you', 'think', 'about', 'â\\x80\\x98real', 'estateâ\\x80\\x99', 'in', 'emerging', 'markets', 'like', 'India', '?', '\\n \\n ', 'ML', ':', 'I', 'think', 'the', 'real', 'estate', 'is', 'the', 'top', 'challenge', '.', 'As', 'the', 'Nielsen', 'study', 'has', 'proved', 'that', '41', 'per', 'cent', 'of', 'Indians', 'would', 'choose', 'Gucci', ',', 'there', 'is', 'awareness', 'about', 'the', 'Gucci', 'brand', '.', 'It', 'is', 'less', 'about', 'problems', 'and', 'more', 'about', 'opportunities', '.', 'Weâ\\x80\\x99re', 'quite', 'excited', 'about', 'medium', 'and', 'long', 'range', 'potential', 'and', 'we', 'plan', 'to', 'develop', 'step', 'by', 'step', 'in', 'the', 'Indian', 'market', '.', '\\n \\n  \\n \\n ', 'Retailer', ':', 'Are', 'you', 'also', 'looking', 'to', 'incorporate', 'any', 'of', 'traditional', 'Indian', 'wear', 'in', 'your', 'collection', '?', '\\n \\n ', 'ML', ':', 'At', 'present', ',', 'we', 'have', 'not', 'incorporated', 'any', 'of', 'them', '.', 'But', ',', 'we', 'are', 'talking', 'about', 'turbans', 'and', 'some', 'of', 'the', 'local', 'garments', 'and', ',', 'for', 'the', 'time', 'being', ',', 'we', 'leave', 'this', 'as', 'an', 'open', 'thought', '.']\n"
          ]
        }
      ]
    },
    {
      "cell_type": "code",
      "source": [
        "word_freq={}"
      ],
      "metadata": {
        "id": "x9UGD3OveGRU"
      },
      "execution_count": null,
      "outputs": []
    },
    {
      "cell_type": "code",
      "source": [
        "stop_words= list(STOP_WORDS)"
      ],
      "metadata": {
        "id": "ABoDn_2KeJds"
      },
      "execution_count": null,
      "outputs": []
    },
    {
      "cell_type": "code",
      "source": [
        "for word in doc:\n",
        "   if word.text.lower() not in stop_words:\n",
        "     if word.text.lower() not in punctuation:\n",
        "       if word.text not in word_freq.keys():\n",
        "         word_freq[word.text]= 1\n",
        "       else:\n",
        "         word_freq[word.text]+= 1\n",
        "print(word_freq)"
      ],
      "metadata": {
        "colab": {
          "base_uri": "https://localhost:8080/"
        },
        "id": "5osC_o7meVKJ",
        "outputId": "3cbd2305-9230-440e-ce36-ac160ce5489d"
      },
      "execution_count": null,
      "outputs": [
        {
          "output_type": "stream",
          "name": "stdout",
          "text": [
            "{'World': 1, 'leading': 1, 'luxury': 7, 'goods': 8, 'maker': 1, 'Gucci': 21, 'looking': 2, 'multiplying': 1, 'presence': 1, 'country': 2, '2010': 2, 'plans': 2, 'develop': 2, 'India': 16, 'key': 2, 'global': 3, 'market': 7, '\\n ': 1, 'company': 2, 'forayed': 1, 'late': 1, 'year': 6, 'Today': 1, 'stores': 14, 'Gucciâ\\x80\\x99s': 5, 'plan': 4, 'end': 2, 'years': 4, 'double': 2, 'number': 3, ' ': 4, 'â\\x80\\x9cWe': 1, 'quiet': 1, 'interested': 1, 'emerging': 4, 'gifting': 2, 'culture': 1, 'lot': 2, 'awareness': 2, 'sophisticated': 1, 'customers': 3, 'Step': 1, 'step': 3, 'intend': 1, 'build': 1, '2008': 1, 'CEO': 2, 'Mark': 4, 'Lee': 4, 'said': 5, 'existing': 1, 'outlets': 4, 'Mumbai': 4, 'Delhi': 5, 'partnership': 1, 'based': 1, 'Murjani': 4, 'Group': 3, 'open': 4, 'store': 6, 'fourth': 2, 'Bangalore': 2, '\\n \\n ': 12, 'master': 1, 'franchisee': 1, 'opening': 1, 'having': 1, '2008.â\\x80\\x9d': 1, 'Asked': 1, 'investments': 1, 'disclosing': 1, 'specific': 1, 'details': 1, 'substantial': 1, 'investment': 1, 'future': 1, '100': 1, 'million': 2, 'approximately': 2, 'Rs': 2, '400': 1, 'housing': 1, 'collections': 1, 'men': 2, 'women': 3, 'ready': 5, 'wear': 7, 'handbags': 3, 'shoes': 2, 'watches': 3, 'sunglasses': 1, 'jewellery': 1, 'small': 2, 'leather': 4, 'items': 1, 'accessories': 2, 'major': 2, 'metros': 2, 'Globally': 1, 'brand': 6, 'associated': 1, 'sells': 1, 'high': 1, 'quality': 2, 'directly': 1, 'operated': 1, 'franchised': 1, 'boutiques': 1, 'duty': 1, 'free': 1, 'shops': 1, 'departmental': 1, 'group': 1, 'headquartered': 1, 'New': 1, 'York': 1, 'instrumental': 1, 'developing': 1, 'launching': 1, 'recognised': 1, 'international': 1, 'designer': 1, 'lifestyle': 1, 'brands': 3, 'like': 4, 'Tommy': 1, 'Hilfiger': 1, 'Gloria': 1, 'Vanderbilt': 1, 'focus': 1, 'primarily': 1, 'creating': 1, 'multi': 1, 'platform': 1, '\\n \\n  \\n \\n  \\n \\n ': 1, 'Interview': 1, 'Attractiveness': 1, 'present': 3, 'day': 1, 'making': 1, 'money': 2, 'pumped': 1, 'markets': 3, 'brief': 1, 'interaction': 1, 'Retailer': 10, 'says': 1, 'highest': 2, 'percentage': 1, 'prefer': 1, '\\n \\n  \\n \\n ': 8, 'retail': 1, 'ML': 9, '):': 1, 'opportunity': 1, 'enter': 1, 'Indian': 5, 'beginning': 1, 'Indiaâ\\x80\\x99s': 1, 'demand': 1, 'comparison': 1, 'coveted': 1, 'world': 2, 'Worldwide': 1, 'fifth': 1, 'consumer': 1, 'â\\x80\\x98objectâ\\x80\\x99': 1, 'persons': 1, 'chose': 1, 'belong': 1, ' \\n \\n  \\n \\n ': 1, 'development': 1, 'current': 1, 'financial': 1, 'new': 3, '87': 1, 'old': 1, 'course': 1, 'incredible': 1, 'history': 1, 'question': 1, 'putting': 1, 'values': 1, 'letting': 1, 'mature': 1, 'grow': 1, 'fully': 1, 'products': 3, 'Italy': 1, 'want': 1, 'experience': 1, 'terms': 2, 'product': 1, 'design': 1, 'service': 1, 'delivered': 1, 'size': 2, '350': 1, 'sq.mts': 1, 'largest': 1, 'single': 1, 'range': 4, 'offers': 1, 'footwear': 3, 'menswear': 1, 'coming': 1, 'offer': 1, 'offered': 1, 'main': 1, 'business': 2, 'represents': 1, '54': 1, 'cent': 6, 'deals': 1, 'tremendous': 1, 'scope': 1, 'success': 1, 'clothing': 1, 'grown': 1, '46': 1, '2007': 1, 'grew': 1, 'growing': 1, '20': 1, 'scale': 1, 'revenue': 3, 'basis': 1, 'reached': 1, '2.2': 1, 'billion': 2, 'euros': 1, '138.6': 1, '70': 1, 'comes': 1, 'operate': 1, 'think': 2, 'â\\x80\\x98real': 1, 'estateâ\\x80\\x99': 1, 'real': 1, 'estate': 1, 'challenge': 1, 'Nielsen': 1, 'study': 1, 'proved': 1, '41': 1, 'Indians': 1, 'choose': 1, 'problems': 1, 'opportunities': 1, 'Weâ\\x80\\x99re': 1, 'excited': 1, 'medium': 1, 'long': 1, 'potential': 1, 'incorporate': 1, 'traditional': 1, 'collection': 1, 'incorporated': 1, 'talking': 1, 'turbans': 1, 'local': 1, 'garments': 1, 'time': 1, 'leave': 1, 'thought': 1}\n"
          ]
        }
      ]
    },
    {
      "cell_type": "code",
      "source": [
        "x=(word_freq.values())\n",
        "a=list(x)\n",
        "a.sort()\n",
        "max_freq=a[-1]\n",
        "max_freq"
      ],
      "metadata": {
        "colab": {
          "base_uri": "https://localhost:8080/"
        },
        "id": "sKue3gbPeYyh",
        "outputId": "09d84282-fee6-445a-e741-fabebb3fade7"
      },
      "execution_count": null,
      "outputs": [
        {
          "output_type": "execute_result",
          "data": {
            "text/plain": [
              "21"
            ]
          },
          "metadata": {},
          "execution_count": 28
        }
      ]
    },
    {
      "cell_type": "code",
      "source": [
        "for word in word_freq.keys():\n",
        "   word_freq[word]=word_freq[word]/max_freq\n",
        "print(word_freq)"
      ],
      "metadata": {
        "colab": {
          "base_uri": "https://localhost:8080/"
        },
        "id": "4OceeK65edff",
        "outputId": "ccd303dd-1a78-429f-89c5-71e13830f5a8"
      },
      "execution_count": null,
      "outputs": [
        {
          "output_type": "stream",
          "name": "stdout",
          "text": [
            "{'World': 0.047619047619047616, 'leading': 0.047619047619047616, 'luxury': 0.3333333333333333, 'goods': 0.38095238095238093, 'maker': 0.047619047619047616, 'Gucci': 1.0, 'looking': 0.09523809523809523, 'multiplying': 0.047619047619047616, 'presence': 0.047619047619047616, 'country': 0.09523809523809523, '2010': 0.09523809523809523, 'plans': 0.09523809523809523, 'develop': 0.09523809523809523, 'India': 0.7619047619047619, 'key': 0.09523809523809523, 'global': 0.14285714285714285, 'market': 0.3333333333333333, '\\n ': 0.047619047619047616, 'company': 0.09523809523809523, 'forayed': 0.047619047619047616, 'late': 0.047619047619047616, 'year': 0.2857142857142857, 'Today': 0.047619047619047616, 'stores': 0.6666666666666666, 'Gucciâ\\x80\\x99s': 0.23809523809523808, 'plan': 0.19047619047619047, 'end': 0.09523809523809523, 'years': 0.19047619047619047, 'double': 0.09523809523809523, 'number': 0.14285714285714285, ' ': 0.19047619047619047, 'â\\x80\\x9cWe': 0.047619047619047616, 'quiet': 0.047619047619047616, 'interested': 0.047619047619047616, 'emerging': 0.19047619047619047, 'gifting': 0.09523809523809523, 'culture': 0.047619047619047616, 'lot': 0.09523809523809523, 'awareness': 0.09523809523809523, 'sophisticated': 0.047619047619047616, 'customers': 0.14285714285714285, 'Step': 0.047619047619047616, 'step': 0.14285714285714285, 'intend': 0.047619047619047616, 'build': 0.047619047619047616, '2008': 0.047619047619047616, 'CEO': 0.09523809523809523, 'Mark': 0.19047619047619047, 'Lee': 0.19047619047619047, 'said': 0.23809523809523808, 'existing': 0.047619047619047616, 'outlets': 0.19047619047619047, 'Mumbai': 0.19047619047619047, 'Delhi': 0.23809523809523808, 'partnership': 0.047619047619047616, 'based': 0.047619047619047616, 'Murjani': 0.19047619047619047, 'Group': 0.14285714285714285, 'open': 0.19047619047619047, 'store': 0.2857142857142857, 'fourth': 0.09523809523809523, 'Bangalore': 0.09523809523809523, '\\n \\n ': 0.5714285714285714, 'master': 0.047619047619047616, 'franchisee': 0.047619047619047616, 'opening': 0.047619047619047616, 'having': 0.047619047619047616, '2008.â\\x80\\x9d': 0.047619047619047616, 'Asked': 0.047619047619047616, 'investments': 0.047619047619047616, 'disclosing': 0.047619047619047616, 'specific': 0.047619047619047616, 'details': 0.047619047619047616, 'substantial': 0.047619047619047616, 'investment': 0.047619047619047616, 'future': 0.047619047619047616, '100': 0.047619047619047616, 'million': 0.09523809523809523, 'approximately': 0.09523809523809523, 'Rs': 0.09523809523809523, '400': 0.047619047619047616, 'housing': 0.047619047619047616, 'collections': 0.047619047619047616, 'men': 0.09523809523809523, 'women': 0.14285714285714285, 'ready': 0.23809523809523808, 'wear': 0.3333333333333333, 'handbags': 0.14285714285714285, 'shoes': 0.09523809523809523, 'watches': 0.14285714285714285, 'sunglasses': 0.047619047619047616, 'jewellery': 0.047619047619047616, 'small': 0.09523809523809523, 'leather': 0.19047619047619047, 'items': 0.047619047619047616, 'accessories': 0.09523809523809523, 'major': 0.09523809523809523, 'metros': 0.09523809523809523, 'Globally': 0.047619047619047616, 'brand': 0.2857142857142857, 'associated': 0.047619047619047616, 'sells': 0.047619047619047616, 'high': 0.047619047619047616, 'quality': 0.09523809523809523, 'directly': 0.047619047619047616, 'operated': 0.047619047619047616, 'franchised': 0.047619047619047616, 'boutiques': 0.047619047619047616, 'duty': 0.047619047619047616, 'free': 0.047619047619047616, 'shops': 0.047619047619047616, 'departmental': 0.047619047619047616, 'group': 0.047619047619047616, 'headquartered': 0.047619047619047616, 'New': 0.047619047619047616, 'York': 0.047619047619047616, 'instrumental': 0.047619047619047616, 'developing': 0.047619047619047616, 'launching': 0.047619047619047616, 'recognised': 0.047619047619047616, 'international': 0.047619047619047616, 'designer': 0.047619047619047616, 'lifestyle': 0.047619047619047616, 'brands': 0.14285714285714285, 'like': 0.19047619047619047, 'Tommy': 0.047619047619047616, 'Hilfiger': 0.047619047619047616, 'Gloria': 0.047619047619047616, 'Vanderbilt': 0.047619047619047616, 'focus': 0.047619047619047616, 'primarily': 0.047619047619047616, 'creating': 0.047619047619047616, 'multi': 0.047619047619047616, 'platform': 0.047619047619047616, '\\n \\n  \\n \\n  \\n \\n ': 0.047619047619047616, 'Interview': 0.047619047619047616, 'Attractiveness': 0.047619047619047616, 'present': 0.14285714285714285, 'day': 0.047619047619047616, 'making': 0.047619047619047616, 'money': 0.09523809523809523, 'pumped': 0.047619047619047616, 'markets': 0.14285714285714285, 'brief': 0.047619047619047616, 'interaction': 0.047619047619047616, 'Retailer': 0.47619047619047616, 'says': 0.047619047619047616, 'highest': 0.09523809523809523, 'percentage': 0.047619047619047616, 'prefer': 0.047619047619047616, '\\n \\n  \\n \\n ': 0.38095238095238093, 'retail': 0.047619047619047616, 'ML': 0.42857142857142855, '):': 0.047619047619047616, 'opportunity': 0.047619047619047616, 'enter': 0.047619047619047616, 'Indian': 0.23809523809523808, 'beginning': 0.047619047619047616, 'Indiaâ\\x80\\x99s': 0.047619047619047616, 'demand': 0.047619047619047616, 'comparison': 0.047619047619047616, 'coveted': 0.047619047619047616, 'world': 0.09523809523809523, 'Worldwide': 0.047619047619047616, 'fifth': 0.047619047619047616, 'consumer': 0.047619047619047616, 'â\\x80\\x98objectâ\\x80\\x99': 0.047619047619047616, 'persons': 0.047619047619047616, 'chose': 0.047619047619047616, 'belong': 0.047619047619047616, ' \\n \\n  \\n \\n ': 0.047619047619047616, 'development': 0.047619047619047616, 'current': 0.047619047619047616, 'financial': 0.047619047619047616, 'new': 0.14285714285714285, '87': 0.047619047619047616, 'old': 0.047619047619047616, 'course': 0.047619047619047616, 'incredible': 0.047619047619047616, 'history': 0.047619047619047616, 'question': 0.047619047619047616, 'putting': 0.047619047619047616, 'values': 0.047619047619047616, 'letting': 0.047619047619047616, 'mature': 0.047619047619047616, 'grow': 0.047619047619047616, 'fully': 0.047619047619047616, 'products': 0.14285714285714285, 'Italy': 0.047619047619047616, 'want': 0.047619047619047616, 'experience': 0.047619047619047616, 'terms': 0.09523809523809523, 'product': 0.047619047619047616, 'design': 0.047619047619047616, 'service': 0.047619047619047616, 'delivered': 0.047619047619047616, 'size': 0.09523809523809523, '350': 0.047619047619047616, 'sq.mts': 0.047619047619047616, 'largest': 0.047619047619047616, 'single': 0.047619047619047616, 'range': 0.19047619047619047, 'offers': 0.047619047619047616, 'footwear': 0.14285714285714285, 'menswear': 0.047619047619047616, 'coming': 0.047619047619047616, 'offer': 0.047619047619047616, 'offered': 0.047619047619047616, 'main': 0.047619047619047616, 'business': 0.09523809523809523, 'represents': 0.047619047619047616, '54': 0.047619047619047616, 'cent': 0.2857142857142857, 'deals': 0.047619047619047616, 'tremendous': 0.047619047619047616, 'scope': 0.047619047619047616, 'success': 0.047619047619047616, 'clothing': 0.047619047619047616, 'grown': 0.047619047619047616, '46': 0.047619047619047616, '2007': 0.047619047619047616, 'grew': 0.047619047619047616, 'growing': 0.047619047619047616, '20': 0.047619047619047616, 'scale': 0.047619047619047616, 'revenue': 0.14285714285714285, 'basis': 0.047619047619047616, 'reached': 0.047619047619047616, '2.2': 0.047619047619047616, 'billion': 0.09523809523809523, 'euros': 0.047619047619047616, '138.6': 0.047619047619047616, '70': 0.047619047619047616, 'comes': 0.047619047619047616, 'operate': 0.047619047619047616, 'think': 0.09523809523809523, 'â\\x80\\x98real': 0.047619047619047616, 'estateâ\\x80\\x99': 0.047619047619047616, 'real': 0.047619047619047616, 'estate': 0.047619047619047616, 'challenge': 0.047619047619047616, 'Nielsen': 0.047619047619047616, 'study': 0.047619047619047616, 'proved': 0.047619047619047616, '41': 0.047619047619047616, 'Indians': 0.047619047619047616, 'choose': 0.047619047619047616, 'problems': 0.047619047619047616, 'opportunities': 0.047619047619047616, 'Weâ\\x80\\x99re': 0.047619047619047616, 'excited': 0.047619047619047616, 'medium': 0.047619047619047616, 'long': 0.047619047619047616, 'potential': 0.047619047619047616, 'incorporate': 0.047619047619047616, 'traditional': 0.047619047619047616, 'collection': 0.047619047619047616, 'incorporated': 0.047619047619047616, 'talking': 0.047619047619047616, 'turbans': 0.047619047619047616, 'local': 0.047619047619047616, 'garments': 0.047619047619047616, 'time': 0.047619047619047616, 'leave': 0.047619047619047616, 'thought': 0.047619047619047616}\n"
          ]
        }
      ]
    },
    {
      "cell_type": "code",
      "source": [
        "sent_score={}\n",
        "sent_tokens=[sent for sent in doc.sents]\n",
        "print(sent_tokens)"
      ],
      "metadata": {
        "colab": {
          "base_uri": "https://localhost:8080/"
        },
        "id": "fyfw34qremJ8",
        "outputId": "ed0a9761-24a9-4013-b5fc-1f971c6394af"
      },
      "execution_count": null,
      "outputs": [
        {
          "output_type": "stream",
          "name": "stdout",
          "text": [
            "[World's leading luxury goods maker Gucci is looking to multiplying its presence in the country by 2010 as it plans to develop India as a key global market.\n",
            " , The company forayed India late last year., Today, it has two stores in the country., Gucciâs plan is to end the year with four stores., And, in three years, it may double the number.  , âWe are quiet interested in India, which is an emerging market with a gifting culture and a lot of awareness among the sophisticated customers., Step by step, we intend to build India a key market., By 2008-end, Gucci will have four stores in India,\" Gucci CEO Mark Lee said., He also said that, besides the two existing outlets (one in Mumbai and the other in Delhi), the company in partnership with the Mumbai-based Murjani Group will open a third store in Delhi and a fourth one in Bangalore this year itself.\n",
            " \n",
            " , Murjani Group, the master franchisee of Gucci in India, will be opening the other two stores., \"The plan is to double the number of stores that we will be having in 2008.â Asked about the investments, Murjani, without disclosing specific details, said, \"There is a substantial amount of investment, which has already been made and will be made in future., But, it will be less than $ 100 million ( approximately Rs 400 million)\", He said that there will be, by 2010,  at least eight Gucci outlets housing collections of men's and women's ready-to-wear, handbags, shoes, watches, sunglasses, jewellery, small leather goods, gifting items and other accessories in major metros.\n",
            " \n",
            " , Globally, the Gucci brand, which is associated with handbags and watches, sells high-quality luxury goods through directly operated stores, franchised stores, boutiques, duty-free shops and departmental stores., The Murjani group, headquartered in New York, has been instrumental in developing and launching some of the most well-recognised international designer lifestyle brands like Tommy Hilfiger and Gloria Vanderbilt., The Group will focus primarily on creating a multi-brand platform in India.\n",
            " \n",
            "  \n",
            " \n",
            "  \n",
            " \n",
            " Interview with Mark Lee, CEO, Gucci\n",
            " \n",
            " Attractiveness of present day luxury brands is making a lot of money pumped into emerging markets like India., Mark Lee, during a brief interaction with the Retailer, says that India has the highest percentage of customers who prefer Gucci to other brands\n",
            " \n",
            "  \n",
            " \n",
            " Retailer: How do you see the luxury retail market in India?\n",
            " \n",
            " Mark Lee (ML): Last year, we had an opportunity to enter Indian luxury market., It is the beginning for us in India., At present, Gucci has two outlets, one each in Mumbai and Delhi., We will open the third store in Delhi and the fourth in Bangalore this year itself.\n",
            " \n",
            "  \n",
            " \n",
            " , Retailer: How do you see Indiaâs demand for luxury goods in comparison to other emerging global markets?\n",
            " \n",
            " , ML:, Gucci is the most coveted brand in the world., Worldwide, every fifth consumer said that money would be no âobjectâ and he would go for Gucci., And, the highest number of persons who chose Gucci belong to India.  \n",
            " \n",
            "  \n",
            " \n",
            " , Retailer: How do you see Gucciâs development in India?\n",
            " \n",
            " ML:  , In the current financial year, Gucci plans to open at least four new stores., Gucci is 87 years old brand and India, of course, has incredible history., It is a question of putting these two values together and letting them mature or grow fully., All of our products are made in Italy., And, Indian customers want to have the same Gucci experience in terms of quality, product, design and service as delivered in other stores around the world.\n",
            " \n",
            "  \n",
            " \n",
            " , Retailer:, What is the size of Gucci stores in India?\n",
            " \n",
            " ML: Gucciâs Mumbai store, which is 350 sq.mts, is the largest single luxury goods store in the Indian market., It is a full range store that offers all of our products like leather goods, footwear and ready-to-wear menswear and women wear., The size of Delhi store is quite small.\n",
            " \n",
            "  \n",
            " \n",
            " , Retailer: How many new stores are coming up in the next five years?\n",
            " \n",
            " , ML: We plan to have a few more new Gucci outlets in major metros., These stores will offer men's and women's ready-to-wear, handbags, shoes, watches and other accessories.\n",
            " \n",
            "  \n",
            " \n",
            " , Retailer:, What is the range of products offered?\n",
            " \n",
            " ML: Gucciâs main business, which represents 54 per cent of all its business, deals in leather goods., Besides this, there is tremendous scope and success of footwear and ready to wear clothing., In the last three years, Gucci have grown the brand by 46 per cent., In 2007, leather goods grew over nine per cent while footwear and ready-to-wear is growing in the range of 20 per cent.\n",
            " \n",
            "  \n",
            " \n",
            " , Retailer:  , What is the scale of Gucci in terms of revenue?\n",
            " \n",
            " ML:, On a global basis, Gucciâs revenue reached almost 2.2 billion euros (approximately Rs 138.6 billion) and 70 per cent of the revenue comes from stores that we own and operate ourselves.\n",
            " \n",
            "  \n",
            " \n",
            " , Retailer:, What do you think about âreal estateâ in emerging markets like India?\n",
            " \n",
            " , ML: I think the real estate is the top challenge., As the Nielsen study has proved that 41 per cent of Indians would choose Gucci, there is awareness about the Gucci brand., It is less about problems and more about opportunities., Weâre quite excited about medium and long range potential and we plan to develop step by step in the Indian market.\n",
            " \n",
            "  \n",
            " \n",
            " , Retailer: Are you also looking to incorporate any of traditional Indian wear in your collection?\n",
            " \n",
            " , ML: At present, we have not incorporated any of them., But, we are talking about turbans and some of the local garments and, for the time being, we leave this as an open thought.]\n"
          ]
        }
      ]
    },
    {
      "cell_type": "code",
      "source": [],
      "metadata": {
        "id": "FAZQ4aC96vEz"
      },
      "execution_count": null,
      "outputs": []
    },
    {
      "cell_type": "code",
      "source": [
        "for sent in sent_tokens:\n",
        "   for word in sent:\n",
        "     if word.text.lower() in word_freq.keys():\n",
        "       if sent not in sent_score.keys():\n",
        "         sent_score[sent]=word_freq[word.text.lower()]\n",
        "       else:\n",
        "         sent_score[sent]+= word_freq[word.text.lower()]\n",
        "print(sent_score)"
      ],
      "metadata": {
        "colab": {
          "base_uri": "https://localhost:8080/"
        },
        "id": "rGts-I0LerGb",
        "outputId": "6053dd4c-8d78-49cb-add0-95bd6a4228ee"
      },
      "execution_count": null,
      "outputs": [
        {
          "output_type": "stream",
          "name": "stdout",
          "text": [
            "{World's leading luxury goods maker Gucci is looking to multiplying its presence in the country by 2010 as it plans to develop India as a key global market.\n",
            " : 2.0952380952380953, The company forayed India late last year.: 0.47619047619047616, Today, it has two stores in the country.: 0.7619047619047619, Gucciâs plan is to end the year with four stores.: 1.2380952380952381, And, in three years, it may double the number.  : 0.6190476190476191, âWe are quiet interested in India, which is an emerging market with a gifting culture and a lot of awareness among the sophisticated customers.: 1.1428571428571428, Step by step, we intend to build India a key market.: 0.8095238095238095, By 2008-end, Gucci will have four stores in India,\" Gucci CEO Mark Lee said.: 1.0476190476190477, He also said that, besides the two existing outlets (one in Mumbai and the other in Delhi), the company in partnership with the Mumbai-based Murjani Group will open a third store in Delhi and a fourth one in Bangalore this year itself.\n",
            " \n",
            " : 2.1428571428571432, Murjani Group, the master franchisee of Gucci in India, will be opening the other two stores.: 0.8571428571428571, \"The plan is to double the number of stores that we will be having in 2008.â Asked about the investments, Murjani, without disclosing specific details, said, \"There is a substantial amount of investment, which has already been made and will be made in future.: 1.7619047619047623, But, it will be less than $ 100 million ( approximately Rs 400 million)\": 0.38095238095238093, He said that there will be, by 2010,  at least eight Gucci outlets housing collections of men's and women's ready-to-wear, handbags, shoes, watches, sunglasses, jewellery, small leather goods, gifting items and other accessories in major metros.\n",
            " \n",
            " : 3.761904761904762, Globally, the Gucci brand, which is associated with handbags and watches, sells high-quality luxury goods through directly operated stores, franchised stores, boutiques, duty-free shops and departmental stores.: 3.9047619047619038, The Murjani group, headquartered in New York, has been instrumental in developing and launching some of the most well-recognised international designer lifestyle brands like Tommy Hilfiger and Gloria Vanderbilt.: 0.9047619047619047, The Group will focus primarily on creating a multi-brand platform in India.\n",
            " \n",
            "  \n",
            " \n",
            "  \n",
            " \n",
            " Interview with Mark Lee, CEO, Gucci\n",
            " \n",
            " Attractiveness of present day luxury brands is making a lot of money pumped into emerging markets like India.: 2.666666666666666, Mark Lee, during a brief interaction with the Retailer, says that India has the highest percentage of customers who prefer Gucci to other brands\n",
            " \n",
            "  \n",
            " \n",
            " Retailer: How do you see the luxury retail market in India?\n",
            " \n",
            " Mark Lee (ML): Last year, we had an opportunity to enter Indian luxury market.: 3.3809523809523805, It is the beginning for us in India.: 0.047619047619047616, At present, Gucci has two outlets, one each in Mumbai and Delhi.: 0.3333333333333333, We will open the third store in Delhi and the fourth in Bangalore this year itself.\n",
            " \n",
            "  \n",
            " \n",
            " : 1.2380952380952381, Retailer: How do you see Indiaâs demand for luxury goods in comparison to other emerging global markets?\n",
            " \n",
            " : 1.857142857142857, Gucci is the most coveted brand in the world.: 0.42857142857142855, Worldwide, every fifth consumer said that money would be no âobjectâ and he would go for Gucci.: 0.47619047619047616, And, the highest number of persons who chose Gucci belong to India.  \n",
            " \n",
            "  \n",
            " \n",
            " : 0.42857142857142855, Retailer: How do you see Gucciâs development in India?\n",
            " \n",
            " ML:  : 0.8095238095238095, In the current financial year, Gucci plans to open at least four new stores.: 1.4761904761904763, Gucci is 87 years old brand and India, of course, has incredible history.: 0.7142857142857144, It is a question of putting these two values together and letting them mature or grow fully.: 0.3333333333333333, All of our products are made in Italy.: 0.14285714285714285, And, Indian customers want to have the same Gucci experience in terms of quality, product, design and service as delivered in other stores around the world.\n",
            " \n",
            "  \n",
            " \n",
            " : 1.7619047619047619, What is the size of Gucci stores in India?\n",
            " \n",
            " ML: Gucciâs Mumbai store, which is 350 sq.mts, is the largest single luxury goods store in the Indian market.: 3.1428571428571432, It is a full range store that offers all of our products like leather goods, footwear and ready-to-wear menswear and women wear.: 2.6666666666666665, The size of Delhi store is quite small.\n",
            " \n",
            "  \n",
            " \n",
            " : 0.8571428571428571, Retailer: How many new stores are coming up in the next five years?\n",
            " \n",
            " : 1.619047619047619, ML: We plan to have a few more new Gucci outlets in major metros.: 0.7142857142857142, These stores will offer men's and women's ready-to-wear, handbags, shoes, watches and other accessories.\n",
            " \n",
            "  \n",
            " \n",
            " : 2.380952380952381, What is the range of products offered?\n",
            " \n",
            " ML: Gucciâs main business, which represents 54 per cent of all its business, deals in leather goods.: 2.1904761904761907, Besides this, there is tremendous scope and success of footwear and ready to wear clothing.: 0.9047619047619047, In the last three years, Gucci have grown the brand by 46 per cent.: 0.8571428571428571, In 2007, leather goods grew over nine per cent while footwear and ready-to-wear is growing in the range of 20 per cent.\n",
            " \n",
            "  \n",
            " \n",
            " : 2.619047619047619, Retailer:  : 0.19047619047619047, What is the scale of Gucci in terms of revenue?\n",
            " \n",
            " ML:: 0.8571428571428571, On a global basis, Gucciâs revenue reached almost 2.2 billion euros (approximately Rs 138.6 billion) and 70 per cent of the revenue comes from stores that we own and operate ourselves.\n",
            " \n",
            "  \n",
            " \n",
            " : 2.4285714285714284, What do you think about âreal estateâ in emerging markets like India?\n",
            " \n",
            " : 1.2857142857142856, ML: I think the real estate is the top challenge.: 0.23809523809523808, As the Nielsen study has proved that 41 per cent of Indians would choose Gucci, there is awareness about the Gucci brand.: 0.8571428571428571, It is less about problems and more about opportunities.: 0.09523809523809523, Weâre quite excited about medium and long range potential and we plan to develop step by step in the Indian market.\n",
            " \n",
            "  \n",
            " \n",
            " : 1.6666666666666665, Retailer: Are you also looking to incorporate any of traditional Indian wear in your collection?\n",
            " \n",
            " : 1.1428571428571428, ML: At present, we have not incorporated any of them.: 0.19047619047619047, But, we are talking about turbans and some of the local garments and, for the time being, we leave this as an open thought.: 0.5238095238095237}\n"
          ]
        }
      ]
    },
    {
      "cell_type": "code",
      "source": [
        "from heapq import nlargest\n",
        "len(sent_score) *0.3"
      ],
      "metadata": {
        "colab": {
          "base_uri": "https://localhost:8080/"
        },
        "id": "1QUV5N2VeukU",
        "outputId": "408619cd-8a00-4ed4-d395-ceb9705bfe51"
      },
      "execution_count": null,
      "outputs": [
        {
          "output_type": "execute_result",
          "data": {
            "text/plain": [
              "15.299999999999999"
            ]
          },
          "metadata": {},
          "execution_count": 35
        }
      ]
    },
    {
      "cell_type": "code",
      "source": [
        "summary=nlargest(n=13,iterable=sent_score,key=sent_score.get)\n",
        "print(summary)"
      ],
      "metadata": {
        "colab": {
          "base_uri": "https://localhost:8080/"
        },
        "id": "uHBVcwUVe0c-",
        "outputId": "c9acda08-dc05-4b02-c664-28594f20d689"
      },
      "execution_count": null,
      "outputs": [
        {
          "output_type": "stream",
          "name": "stdout",
          "text": [
            "[Globally, the Gucci brand, which is associated with handbags and watches, sells high-quality luxury goods through directly operated stores, franchised stores, boutiques, duty-free shops and departmental stores., He said that there will be, by 2010,  at least eight Gucci outlets housing collections of men's and women's ready-to-wear, handbags, shoes, watches, sunglasses, jewellery, small leather goods, gifting items and other accessories in major metros.\n",
            " \n",
            " , Mark Lee, during a brief interaction with the Retailer, says that India has the highest percentage of customers who prefer Gucci to other brands\n",
            " \n",
            "  \n",
            " \n",
            " Retailer: How do you see the luxury retail market in India?\n",
            " \n",
            " Mark Lee (ML): Last year, we had an opportunity to enter Indian luxury market., What is the size of Gucci stores in India?\n",
            " \n",
            " ML: Gucciâs Mumbai store, which is 350 sq.mts, is the largest single luxury goods store in the Indian market., It is a full range store that offers all of our products like leather goods, footwear and ready-to-wear menswear and women wear., The Group will focus primarily on creating a multi-brand platform in India.\n",
            " \n",
            "  \n",
            " \n",
            "  \n",
            " \n",
            " Interview with Mark Lee, CEO, Gucci\n",
            " \n",
            " Attractiveness of present day luxury brands is making a lot of money pumped into emerging markets like India., In 2007, leather goods grew over nine per cent while footwear and ready-to-wear is growing in the range of 20 per cent.\n",
            " \n",
            "  \n",
            " \n",
            " , On a global basis, Gucciâs revenue reached almost 2.2 billion euros (approximately Rs 138.6 billion) and 70 per cent of the revenue comes from stores that we own and operate ourselves.\n",
            " \n",
            "  \n",
            " \n",
            " , These stores will offer men's and women's ready-to-wear, handbags, shoes, watches and other accessories.\n",
            " \n",
            "  \n",
            " \n",
            " , What is the range of products offered?\n",
            " \n",
            " ML: Gucciâs main business, which represents 54 per cent of all its business, deals in leather goods., He also said that, besides the two existing outlets (one in Mumbai and the other in Delhi), the company in partnership with the Mumbai-based Murjani Group will open a third store in Delhi and a fourth one in Bangalore this year itself.\n",
            " \n",
            " , World's leading luxury goods maker Gucci is looking to multiplying its presence in the country by 2010 as it plans to develop India as a key global market.\n",
            " , Retailer: How do you see Indiaâs demand for luxury goods in comparison to other emerging global markets?\n",
            " \n",
            " ]\n"
          ]
        }
      ]
    },
    {
      "cell_type": "code",
      "source": [
        "final_summary=[word.text for word in summary]\n",
        "final_summary"
      ],
      "metadata": {
        "colab": {
          "base_uri": "https://localhost:8080/"
        },
        "id": "RlZa0TfKe4fV",
        "outputId": "a9eea6aa-2364-4e9b-b2b4-96702fce3149"
      },
      "execution_count": null,
      "outputs": [
        {
          "output_type": "execute_result",
          "data": {
            "text/plain": [
              "['Globally, the Gucci brand, which is associated with handbags and watches, sells high-quality luxury goods through directly operated stores, franchised stores, boutiques, duty-free shops and departmental stores.',\n",
              " \"He said that there will be, by 2010,  at least eight Gucci outlets housing collections of men's and women's ready-to-wear, handbags, shoes, watches, sunglasses, jewellery, small leather goods, gifting items and other accessories in major metros.\\n \\n \",\n",
              " 'Mark Lee, during a brief interaction with the Retailer, says that India has the highest percentage of customers who prefer Gucci to other brands\\n \\n  \\n \\n Retailer: How do you see the luxury retail market in India?\\n \\n Mark Lee (ML): Last year, we had an opportunity to enter Indian luxury market.',\n",
              " 'What is the size of Gucci stores in India?\\n \\n ML: Gucciâ\\x80\\x99s Mumbai store, which is 350 sq.mts, is the largest single luxury goods store in the Indian market.',\n",
              " 'It is a full range store that offers all of our products like leather goods, footwear and ready-to-wear menswear and women wear.',\n",
              " 'The Group will focus primarily on creating a multi-brand platform in India.\\n \\n  \\n \\n  \\n \\n Interview with Mark Lee, CEO, Gucci\\n \\n Attractiveness of present day luxury brands is making a lot of money pumped into emerging markets like India.',\n",
              " 'In 2007, leather goods grew over nine per cent while footwear and ready-to-wear is growing in the range of 20 per cent.\\n \\n  \\n \\n ',\n",
              " 'On a global basis, Gucciâ\\x80\\x99s revenue reached almost 2.2 billion euros (approximately Rs 138.6 billion) and 70 per cent of the revenue comes from stores that we own and operate ourselves.\\n \\n  \\n \\n ',\n",
              " \"These stores will offer men's and women's ready-to-wear, handbags, shoes, watches and other accessories.\\n \\n  \\n \\n \",\n",
              " 'What is the range of products offered?\\n \\n ML: Gucciâ\\x80\\x99s main business, which represents 54 per cent of all its business, deals in leather goods.',\n",
              " 'He also said that, besides the two existing outlets (one in Mumbai and the other in Delhi), the company in partnership with the Mumbai-based Murjani Group will open a third store in Delhi and a fourth one in Bangalore this year itself.\\n \\n ',\n",
              " \"World's leading luxury goods maker Gucci is looking to multiplying its presence in the country by 2010 as it plans to develop India as a key global market.\\n \",\n",
              " 'Retailer: How do you see Indiaâ\\x80\\x99s demand for luxury goods in comparison to other emerging global markets?\\n \\n ']"
            ]
          },
          "metadata": {},
          "execution_count": 37
        }
      ]
    },
    {
      "cell_type": "code",
      "source": [
        "import re"
      ],
      "metadata": {
        "id": "YI-VGyave-7n"
      },
      "execution_count": null,
      "outputs": []
    },
    {
      "cell_type": "code",
      "source": [
        "f1=[]\n",
        "for sub in final_summary:\n",
        "   f1.append(re.sub('n','',sub))\n",
        "f1"
      ],
      "metadata": {
        "colab": {
          "base_uri": "https://localhost:8080/"
        },
        "id": "vacYuclbfCS3",
        "outputId": "22cbeed5-f327-4169-ade8-d14df432ec7c"
      },
      "execution_count": null,
      "outputs": [
        {
          "output_type": "execute_result",
          "data": {
            "text/plain": [
              "['Globally, the Gucci brad, which is associated with hadbags ad watches, sells high-quality luxury goods through directly operated stores, frachised stores, boutiques, duty-free shops ad departmetal stores.',\n",
              " \"He said that there will be, by 2010,  at least eight Gucci outlets housig collectios of me's ad wome's ready-to-wear, hadbags, shoes, watches, suglasses, jewellery, small leather goods, giftig items ad other accessories i major metros.\\n \\n \",\n",
              " 'Mark Lee, durig a brief iteractio with the Retailer, says that Idia has the highest percetage of customers who prefer Gucci to other brads\\n \\n  \\n \\n Retailer: How do you see the luxury retail market i Idia?\\n \\n Mark Lee (ML): Last year, we had a opportuity to eter Idia luxury market.',\n",
              " 'What is the size of Gucci stores i Idia?\\n \\n ML: Gucciâ\\x80\\x99s Mumbai store, which is 350 sq.mts, is the largest sigle luxury goods store i the Idia market.',\n",
              " 'It is a full rage store that offers all of our products like leather goods, footwear ad ready-to-wear meswear ad wome wear.',\n",
              " 'The Group will focus primarily o creatig a multi-brad platform i Idia.\\n \\n  \\n \\n  \\n \\n Iterview with Mark Lee, CEO, Gucci\\n \\n Attractiveess of preset day luxury brads is makig a lot of moey pumped ito emergig markets like Idia.',\n",
              " 'I 2007, leather goods grew over ie per cet while footwear ad ready-to-wear is growig i the rage of 20 per cet.\\n \\n  \\n \\n ',\n",
              " 'O a global basis, Gucciâ\\x80\\x99s reveue reached almost 2.2 billio euros (approximately Rs 138.6 billio) ad 70 per cet of the reveue comes from stores that we ow ad operate ourselves.\\n \\n  \\n \\n ',\n",
              " \"These stores will offer me's ad wome's ready-to-wear, hadbags, shoes, watches ad other accessories.\\n \\n  \\n \\n \",\n",
              " 'What is the rage of products offered?\\n \\n ML: Gucciâ\\x80\\x99s mai busiess, which represets 54 per cet of all its busiess, deals i leather goods.',\n",
              " 'He also said that, besides the two existig outlets (oe i Mumbai ad the other i Delhi), the compay i partership with the Mumbai-based Murjai Group will ope a third store i Delhi ad a fourth oe i Bagalore this year itself.\\n \\n ',\n",
              " \"World's leadig luxury goods maker Gucci is lookig to multiplyig its presece i the coutry by 2010 as it plas to develop Idia as a key global market.\\n \",\n",
              " 'Retailer: How do you see Idiaâ\\x80\\x99s demad for luxury goods i compariso to other emergig global markets?\\n \\n ']"
            ]
          },
          "metadata": {},
          "execution_count": 39
        }
      ]
    },
    {
      "cell_type": "code",
      "source": [
        "f2=\" \".join(f1)\n",
        "f2"
      ],
      "metadata": {
        "colab": {
          "base_uri": "https://localhost:8080/",
          "height": 145
        },
        "id": "VSRCZF1YfFy5",
        "outputId": "a92c0975-475a-4ff7-8411-1bd41d45efc4"
      },
      "execution_count": null,
      "outputs": [
        {
          "output_type": "execute_result",
          "data": {
            "text/plain": [
              "\"Globally, the Gucci brad, which is associated with hadbags ad watches, sells high-quality luxury goods through directly operated stores, frachised stores, boutiques, duty-free shops ad departmetal stores. He said that there will be, by 2010,  at least eight Gucci outlets housig collectios of me's ad wome's ready-to-wear, hadbags, shoes, watches, suglasses, jewellery, small leather goods, giftig items ad other accessories i major metros.\\n \\n  Mark Lee, durig a brief iteractio with the Retailer, says that Idia has the highest percetage of customers who prefer Gucci to other brads\\n \\n  \\n \\n Retailer: How do you see the luxury retail market i Idia?\\n \\n Mark Lee (ML): Last year, we had a opportuity to eter Idia luxury market. What is the size of Gucci stores i Idia?\\n \\n ML: Gucciâ\\x80\\x99s Mumbai store, which is 350 sq.mts, is the largest sigle luxury goods store i the Idia market. It is a full rage store that offers all of our products like leather goods, footwear ad ready-to-wear meswear ad wome wear. The Group will focus primarily o creatig a multi-brad platform i Idia.\\n \\n  \\n \\n  \\n \\n Iterview with Mark Lee, CEO, Gucci\\n \\n Attractiveess of preset day luxury brads is makig a lot of moey pumped ito emergig markets like Idia. I 2007, leather goods grew over ie per cet while footwear ad ready-to-wear is growig i the rage of 20 per cet.\\n \\n  \\n \\n  O a global basis, Gucciâ\\x80\\x99s reveue reached almost 2.2 billio euros (approximately Rs 138.6 billio) ad 70 per cet of the reveue comes from stores that we ow ad operate ourselves.\\n \\n  \\n \\n  These stores will offer me's ad wome's ready-to-wear, hadbags, shoes, watches ad other accessories.\\n \\n  \\n \\n  What is the rage of products offered?\\n \\n ML: Gucciâ\\x80\\x99s mai busiess, which represets 54 per cet of all its busiess, deals i leather goods. He also said that, besides the two existig outlets (oe i Mumbai ad the other i Delhi), the compay i partership with the Mumbai-based Murjai Group will ope a third store i Delhi ad a fourth oe i Bagalore this year itself.\\n \\n  World's leadig luxury goods maker Gucci is lookig to multiplyig its presece i the coutry by 2010 as it plas to develop Idia as a key global market.\\n  Retailer: How do you see Idiaâ\\x80\\x99s demad for luxury goods i compariso to other emergig global markets?\\n \\n \""
            ],
            "application/vnd.google.colaboratory.intrinsic+json": {
              "type": "string"
            }
          },
          "metadata": {},
          "execution_count": 40
        }
      ]
    },
    {
      "cell_type": "code",
      "source": [
        "f3=len(f2.split())\n",
        "print (\"The number of words in final summary is : \" +  str(f3))"
      ],
      "metadata": {
        "colab": {
          "base_uri": "https://localhost:8080/"
        },
        "id": "iBpaArT_fJvR",
        "outputId": "bdaaeb0c-b7b7-4316-9fa0-1cd6252d49f8"
      },
      "execution_count": null,
      "outputs": [
        {
          "output_type": "stream",
          "name": "stdout",
          "text": [
            "The number of words in final summary is : 376\n"
          ]
        }
      ]
    },
    {
      "cell_type": "markdown",
      "source": [
        "With Transformers"
      ],
      "metadata": {
        "id": "nGES5tCRfU0Y"
      }
    },
    {
      "cell_type": "code",
      "source": [
        "import locale\n",
        "locale.getpreferredencoding = lambda: \"UTF-8\""
      ],
      "metadata": {
        "id": "gTA1pUwufMfa"
      },
      "execution_count": null,
      "outputs": []
    },
    {
      "cell_type": "code",
      "source": [
        "pip install transformers"
      ],
      "metadata": {
        "colab": {
          "base_uri": "https://localhost:8080/"
        },
        "id": "Qt6qSL8IfXwg",
        "outputId": "01b555da-0f39-4905-eb70-b763efc36cdd"
      },
      "execution_count": null,
      "outputs": [
        {
          "output_type": "stream",
          "name": "stdout",
          "text": [
            "Looking in indexes: https://pypi.org/simple, https://us-python.pkg.dev/colab-wheels/public/simple/\n",
            "Collecting transformers\n",
            "  Downloading transformers-4.30.2-py3-none-any.whl (7.2 MB)\n",
            "\u001b[2K     \u001b[90m━━━━━━━━━━━━━━━━━━━━━━━━━━━━━━━━━━━━━━━━\u001b[0m \u001b[32m7.2/7.2 MB\u001b[0m \u001b[31m40.6 MB/s\u001b[0m eta \u001b[36m0:00:00\u001b[0m\n",
            "\u001b[?25hRequirement already satisfied: filelock in /usr/local/lib/python3.10/dist-packages (from transformers) (3.12.0)\n",
            "Collecting huggingface-hub<1.0,>=0.14.1 (from transformers)\n",
            "  Downloading huggingface_hub-0.15.1-py3-none-any.whl (236 kB)\n",
            "\u001b[2K     \u001b[90m━━━━━━━━━━━━━━━━━━━━━━━━━━━━━━━━━━━━━━\u001b[0m \u001b[32m236.8/236.8 kB\u001b[0m \u001b[31m26.4 MB/s\u001b[0m eta \u001b[36m0:00:00\u001b[0m\n",
            "\u001b[?25hRequirement already satisfied: numpy>=1.17 in /usr/local/lib/python3.10/dist-packages (from transformers) (1.22.4)\n",
            "Requirement already satisfied: packaging>=20.0 in /usr/local/lib/python3.10/dist-packages (from transformers) (23.1)\n",
            "Requirement already satisfied: pyyaml>=5.1 in /usr/local/lib/python3.10/dist-packages (from transformers) (6.0)\n",
            "Requirement already satisfied: regex!=2019.12.17 in /usr/local/lib/python3.10/dist-packages (from transformers) (2022.10.31)\n",
            "Requirement already satisfied: requests in /usr/local/lib/python3.10/dist-packages (from transformers) (2.27.1)\n",
            "Collecting tokenizers!=0.11.3,<0.14,>=0.11.1 (from transformers)\n",
            "  Downloading tokenizers-0.13.3-cp310-cp310-manylinux_2_17_x86_64.manylinux2014_x86_64.whl (7.8 MB)\n",
            "\u001b[2K     \u001b[90m━━━━━━━━━━━━━━━━━━━━━━━━━━━━━━━━━━━━━━━━\u001b[0m \u001b[32m7.8/7.8 MB\u001b[0m \u001b[31m107.5 MB/s\u001b[0m eta \u001b[36m0:00:00\u001b[0m\n",
            "\u001b[?25hCollecting safetensors>=0.3.1 (from transformers)\n",
            "  Downloading safetensors-0.3.1-cp310-cp310-manylinux_2_17_x86_64.manylinux2014_x86_64.whl (1.3 MB)\n",
            "\u001b[2K     \u001b[90m━━━━━━━━━━━━━━━━━━━━━━━━━━━━━━━━━━━━━━━━\u001b[0m \u001b[32m1.3/1.3 MB\u001b[0m \u001b[31m79.5 MB/s\u001b[0m eta \u001b[36m0:00:00\u001b[0m\n",
            "\u001b[?25hRequirement already satisfied: tqdm>=4.27 in /usr/local/lib/python3.10/dist-packages (from transformers) (4.65.0)\n",
            "Requirement already satisfied: fsspec in /usr/local/lib/python3.10/dist-packages (from huggingface-hub<1.0,>=0.14.1->transformers) (2023.4.0)\n",
            "Requirement already satisfied: typing-extensions>=3.7.4.3 in /usr/local/lib/python3.10/dist-packages (from huggingface-hub<1.0,>=0.14.1->transformers) (4.5.0)\n",
            "Requirement already satisfied: urllib3<1.27,>=1.21.1 in /usr/local/lib/python3.10/dist-packages (from requests->transformers) (1.26.15)\n",
            "Requirement already satisfied: certifi>=2017.4.17 in /usr/local/lib/python3.10/dist-packages (from requests->transformers) (2022.12.7)\n",
            "Requirement already satisfied: charset-normalizer~=2.0.0 in /usr/local/lib/python3.10/dist-packages (from requests->transformers) (2.0.12)\n",
            "Requirement already satisfied: idna<4,>=2.5 in /usr/local/lib/python3.10/dist-packages (from requests->transformers) (3.4)\n",
            "Installing collected packages: tokenizers, safetensors, huggingface-hub, transformers\n",
            "Successfully installed huggingface-hub-0.15.1 safetensors-0.3.1 tokenizers-0.13.3 transformers-4.30.2\n"
          ]
        }
      ]
    },
    {
      "cell_type": "code",
      "source": [
        "import transformers"
      ],
      "metadata": {
        "id": "DSdMCUC5f_qp"
      },
      "execution_count": null,
      "outputs": []
    },
    {
      "cell_type": "code",
      "source": [
        "# f = open(\"text.txt\", \"r\", encoding=\"latin1\")"
      ],
      "metadata": {
        "id": "aWjXNGg1gJZT"
      },
      "execution_count": null,
      "outputs": []
    },
    {
      "cell_type": "code",
      "source": [
        "# to_tokenize = f.readlines()\n",
        "\n",
        "paragraph = \"\"\"\n",
        "Mahendra Singh Dhoni; born 7 July 1981) is an Indian professional cricketer. He was captain of the Indian national team in limited-overs formats from 2007 to 2017 and in Test cricket from 2008 to 2014. He plays as a right-handed wicket-keeper-batsman and is also the current captain of Chennai Super Kings in the Indian Premier League.\n",
        "\n",
        "Born in Ranchi, Bihar (now in Jharkhand),[2][3] His exceptional wicketkeeping skills allowed him to become the regular wicketkeeper at the Commando Cricket Club (1995–1998), he was picked for the 1997/98 season Vinoo Mankad Trophy Under-16 Championship, where he performed well.[4] From 2001 to 2003, He worked as a Travelling Ticket Examiner at Kharagpur railway station under South Eastern Railway in Midnapore, in West Bengal.[5][6] In Indian domestic cricket he played for Bihar and then for Jharkhand Cricket team. Dhoni's performance in the 2002–03 season included three half-centuries in the Ranji Trophy and a couple of half-centuries in the Deodhar Trophy, as he started gaining recognition for his lower-order contribution as well as hard-hitting batting style.\"\"\"\n",
        "\n",
        "paragraph"
      ],
      "metadata": {
        "id": "H4J8q-6YgQ2D",
        "colab": {
          "base_uri": "https://localhost:8080/",
          "height": 122
        },
        "outputId": "fc2cecc4-0191-4e98-f330-45642ea344bf"
      },
      "execution_count": null,
      "outputs": [
        {
          "output_type": "execute_result",
          "data": {
            "text/plain": [
              "\"\\nMahendra Singh Dhoni; born 7 July 1981) is an Indian professional cricketer. He was captain of the Indian national team in limited-overs formats from 2007 to 2017 and in Test cricket from 2008 to 2014. He plays as a right-handed wicket-keeper-batsman and is also the current captain of Chennai Super Kings in the Indian Premier League.\\n\\nBorn in Ranchi, Bihar (now in Jharkhand),[2][3] His exceptional wicketkeeping skills allowed him to become the regular wicketkeeper at the Commando Cricket Club (1995–1998), he was picked for the 1997/98 season Vinoo Mankad Trophy Under-16 Championship, where he performed well.[4] From 2001 to 2003, He worked as a Travelling Ticket Examiner at Kharagpur railway station under South Eastern Railway in Midnapore, in West Bengal.[5][6] In Indian domestic cricket he played for Bihar and then for Jharkhand Cricket team. Dhoni's performance in the 2002–03 season included three half-centuries in the Ranji Trophy and a couple of half-centuries in the Deodhar Trophy, as he started gaining recognition for his lower-order contribution as well as hard-hitting batting style.\""
            ],
            "application/vnd.google.colaboratory.intrinsic+json": {
              "type": "string"
            }
          },
          "metadata": {},
          "execution_count": 4
        }
      ]
    },
    {
      "cell_type": "code",
      "source": [
        "from transformers import pipeline"
      ],
      "metadata": {
        "id": "hPGoLx0RglDx"
      },
      "execution_count": null,
      "outputs": []
    },
    {
      "cell_type": "code",
      "source": [
        "# Initialize the HuggingFace summarization pipeline\n",
        "summarizer = pipeline(\"summarization\")"
      ],
      "metadata": {
        "colab": {
          "base_uri": "https://localhost:8080/",
          "height": 249,
          "referenced_widgets": [
            "38b5bc1145e341b896e1211db91474a6",
            "7379fd3338094ee4bae2c61a66e7d630",
            "451eb1c3698e4a1c820a59947495c817",
            "e95f948dd56e410b98252669850ca71e",
            "20e7fbf89ebe4c759907ffdb6dce201d",
            "93e1722102d8497ebd598d355d6ea81e",
            "fafd441962f94d28961c7a6d38948ce7",
            "d79ef86728d343f496d86ce95e77053d",
            "cce3a67f988d494b935281e8a465eb69",
            "295696022bfc42d89bbf3d5339cac179",
            "a511960da82e438ab2ea55d57549a435",
            "d6e7435c77ec41038f93686d5ab27820",
            "d283d5219a264a3489b804cf966d9501",
            "1bebab188f7c4e8fb4a0e85cfd71a9ed",
            "a0f8939f9899440f84634d81157cdfc8",
            "e96801699b8e45a99bdb02c01fc1295b",
            "ed933b3d930440dbb95fbb52ca176190",
            "6e819caf0b794654b939569cbb9a130b",
            "81a71d8e42444598b4f9aad06938ba7c",
            "8fc5a2514d3945a9a51e1661cef4e8b0",
            "188401a04f8a4b0d9d2642042d1068ca",
            "88bf796f98224b37bac95f3e69d0652a",
            "2eac0bc1b7e7437c9ee3a68346ccd4c0",
            "f6de2bf9760849e38fe1e118a9414c38",
            "74d482459c6941ba83ccfc2dfa6cbf85",
            "877cdc01319d4246b0fa6d833463df7b",
            "965c901a545c4353b3371767af708479",
            "947a6f6c5c5f4704ba36b2345c2cfabd",
            "7b5d48544ae0445ea9322415bbe05d87",
            "98989646cdc042c5a5078efde0556478",
            "60cb062567ab44c7b8c405cdf2024d9e",
            "0a43cbf6cf4146b4877906692f75edf6",
            "fa7ac9d35ab043508a9086593c592349",
            "bae43485659f4d6dadaa14af159246e5",
            "b0b141c0acbd4f72ba25ea7c3097c71d",
            "519774d22f254eb991ea2ba1cf1a152f",
            "2bd4cd0f3b5541eabd63e835882683c0",
            "e3a4625f3835473e919d088dbcc41785",
            "35385a94b4ca4725ba1160853f070757",
            "d77ae42f13744f9fbae4eefd2864f3a0",
            "78fcb587b7304a34bb1dcc98b58417b1",
            "c91dbab94bad4a1c9acec6b73540e21e",
            "8a13e484b8f5492899de7cba47ba7266",
            "009f9534a5a9465abdb90df4c674344a",
            "8fcc54d060b647c18ee1ad25ae496d2c",
            "3705142c9da0428cb53562a7d0179f6a",
            "d156da17c51f4bfe9707fb5209b6eb02",
            "291e50a2b8fd44239c6260ba5432d2a3",
            "03d0044502384758a693681e59108514",
            "78a305ccca4c4c238532f9eca015f637",
            "7699c1515ac948e292dfd452f27be4a5",
            "a3a3b6069bce4f47a0d8c84f1aad1cb3",
            "204706b21557424582491185db073612",
            "630b69ece8d6454982967944e5ca1f42",
            "9eb77d9f117a45c5bd6b17b03a29ec67"
          ]
        },
        "id": "ButnIQ4ygTiw",
        "outputId": "454d15da-4de0-4bbb-cbfa-b404198674b8"
      },
      "execution_count": null,
      "outputs": [
        {
          "output_type": "stream",
          "name": "stderr",
          "text": [
            "No model was supplied, defaulted to sshleifer/distilbart-cnn-12-6 and revision a4f8f3e (https://huggingface.co/sshleifer/distilbart-cnn-12-6).\n",
            "Using a pipeline without specifying a model name and revision in production is not recommended.\n"
          ]
        },
        {
          "output_type": "display_data",
          "data": {
            "text/plain": [
              "Downloading (…)lve/main/config.json: 0.00B [00:00, ?B/s]"
            ],
            "application/vnd.jupyter.widget-view+json": {
              "version_major": 2,
              "version_minor": 0,
              "model_id": "38b5bc1145e341b896e1211db91474a6"
            }
          },
          "metadata": {}
        },
        {
          "output_type": "display_data",
          "data": {
            "text/plain": [
              "Downloading pytorch_model.bin:   0%|          | 0.00/1.22G [00:00<?, ?B/s]"
            ],
            "application/vnd.jupyter.widget-view+json": {
              "version_major": 2,
              "version_minor": 0,
              "model_id": "d6e7435c77ec41038f93686d5ab27820"
            }
          },
          "metadata": {}
        },
        {
          "output_type": "display_data",
          "data": {
            "text/plain": [
              "Downloading (…)okenizer_config.json:   0%|          | 0.00/26.0 [00:00<?, ?B/s]"
            ],
            "application/vnd.jupyter.widget-view+json": {
              "version_major": 2,
              "version_minor": 0,
              "model_id": "2eac0bc1b7e7437c9ee3a68346ccd4c0"
            }
          },
          "metadata": {}
        },
        {
          "output_type": "display_data",
          "data": {
            "text/plain": [
              "Downloading (…)olve/main/vocab.json: 0.00B [00:00, ?B/s]"
            ],
            "application/vnd.jupyter.widget-view+json": {
              "version_major": 2,
              "version_minor": 0,
              "model_id": "bae43485659f4d6dadaa14af159246e5"
            }
          },
          "metadata": {}
        },
        {
          "output_type": "display_data",
          "data": {
            "text/plain": [
              "Downloading (…)olve/main/merges.txt: 0.00B [00:00, ?B/s]"
            ],
            "application/vnd.jupyter.widget-view+json": {
              "version_major": 2,
              "version_minor": 0,
              "model_id": "8fcc54d060b647c18ee1ad25ae496d2c"
            }
          },
          "metadata": {}
        },
        {
          "output_type": "stream",
          "name": "stderr",
          "text": [
            "Your max_length is set to 300, but your input_length is only 263. Since this is a summarization task, where outputs shorter than the input are typically wanted, you might consider decreasing max_length manually, e.g. summarizer('...', max_length=131)\n"
          ]
        }
      ]
    },
    {
      "cell_type": "code",
      "source": [
        "summarized = summarizer(paragraph, min_length=75, max_length=300)"
      ],
      "metadata": {
        "id": "s0apmes2Yw-K"
      },
      "execution_count": null,
      "outputs": []
    },
    {
      "cell_type": "code",
      "source": [
        "# Print summarized text\n",
        "print(summarized)\n",
        "\n",
        "text = summarized[0]['summary_text']\n",
        "\n",
        "print(\"Total words in actual paragraph::\", len(paragraph.split()))\n",
        "\n",
        "print(\"Total words after summarizarion::\", len(text.split()))"
      ],
      "metadata": {
        "colab": {
          "base_uri": "https://localhost:8080/"
        },
        "id": "EDuGR6k7gWOy",
        "outputId": "d9707662-46d7-4a75-e6d3-a675c5a08136"
      },
      "execution_count": null,
      "outputs": [
        {
          "output_type": "stream",
          "name": "stdout",
          "text": [
            "[{'summary_text': ' Mahendra Singh Dhoni is the current captain of Chennai Super Kings in the Indian Premier League . He was captain of the Indian national team in limited-overs formats from 2007 to 2017 and in Test cricket from 2008 to 2014 . Dhoni was born in Ranchi, Bihar (now in Jharkhand) in 1981 and is a right-handed wicket-keeper-batsman .'}]\n",
            "Total words in actual paragraph:: 171\n",
            "Total words after summarizarion:: 58\n"
          ]
        }
      ]
    },
    {
      "cell_type": "code",
      "source": [
        "summ=' '.join([str(i) for i in summarized])"
      ],
      "metadata": {
        "id": "5i-AVu_ZkvsE"
      },
      "execution_count": null,
      "outputs": []
    },
    {
      "cell_type": "code",
      "source": [
        "summ"
      ],
      "metadata": {
        "colab": {
          "base_uri": "https://localhost:8080/",
          "height": 145
        },
        "id": "gHnvyNzyky5q",
        "outputId": "9d3699b0-b3d0-4d77-dd3f-b85e0f82203c"
      },
      "execution_count": null,
      "outputs": [
        {
          "output_type": "execute_result",
          "data": {
            "text/plain": [
              "'{\\'summary_text\\': \" Gucci is looking to multiplying its presence in the country by 2010 . World\\'s leading luxury goods maker Gucci plans to develop India as a key global market . Gucci says it plans to multiply its presence by 2010 as it wants India to be a key market for luxury goods . The Gucci brand is the world\\'s top luxury goods manufacturer and is based in New York City .\"} {\\'summary_text\\': \" Gucci\\'s plan is to end the year with four stores in India . The company forayed India late last year . Today, it has two stores in the country . In three years, Gucci may double the number of stores in three years . Company in partnership with the Mumbai-based Murjani Group will open a third store in Delhi and a fourth one in Bangalore .\"} {\\'summary_text\\': \\' CNN.com will feature iReporter photos in a weekly Travel Snapshots gallery . Please submit your best shots of CNN Travel next week for a new gallery of snapshots . Visit CNN iReport.com/Travel next Wednesday for a gallery of shots of travel next week.com to see how far away you can go in the gallery of iReporters.com photos .\\'} {\\'summary_text\\': \" Murjani Group, the master franchisee of Gucci in India, will be opening the other two stores . There will be, by 2010,  at least eight Gucci outlets housing collections of men\\'s and women\\'s ready-to-wear, handbags, shoes, watches, sunglasses, jewellery, small leather goods, gifting items and other accessories in major metros .\"} {\\'summary_text\\': \\' CNN.com will feature iReporter photos in a weekly Travel Snapshots gallery . Please submit your best shots of CNN Travel next week for a new gallery of snapshots . Visit CNN iReport.com/Travel next Wednesday for a gallery of shots of travel next week.com to see how far away you can go in the gallery of iReporters.com photos .\\'} {\\'summary_text\\': \\' The Murjani group, headquartered in New York, has been instrumental in developing and launching some of the most well-recognised international designer lifestyle brands like Tommy Hilfiger and Gloria Vanderbilt . Globally, the Gucci brand, which is associated with handbags and watches, sells high-quality luxury goods through directly operated stores, franchised stores, boutiques, duty-free shops and departmental stores .\\'} {\\'summary_text\\': \\' CNN.com will feature iReporter photos in a weekly Travel Snapshots gallery . Please submit your best shots of CNN Travel next week for a new gallery of snapshots . Visit CNN iReport.com/Travel next Wednesday for a gallery of shots of travel next week.com to see how far away you can go in the gallery of iReporters.com photos .\\'} {\\'summary_text\\': \" CNN.com will feature iReporter photos in a weekly Travel Snapshots gallery . Please submit your best shots for next week\\'s gallery of iReporters . Visit CNN iReport.com/Travel next Friday for a new gallery of snapshots . Visit http://www.dailymailonline.co.uk/TravelNext Friday for snapshots of the best shots of life in America .\"} {\\'summary_text\\': \\' CNN.com will feature iReporter photos in a weekly Travel Snapshots gallery . Please submit your best shots of CNN Travel next week for a new gallery of snapshots . Visit CNN iReport.com/Travel next Wednesday for a gallery of shots of travel next week.com to see how far away you can go in the gallery of iReporters.com photos .\\'} {\\'summary_text\\': \" CNN.com will feature iReporter photos in a weekly Travel Snapshots gallery . Please submit your best shots for next week\\'s gallery of iReporters . Visit CNN iReport.com/Travel next Friday for a new gallery of snapshots . Visit http://www.dailymailonline.co.uk/TravelNext Friday for snapshots of the best shots of life in America .\"} {\\'summary_text\\': \\' CNN.com will feature iReporter photos in a weekly Travel Snapshots gallery . Please submit your best shots of CNN Travel next week for a new gallery of snapshots . Visit CNN iReport.com/Travel next Wednesday for a gallery of shots of travel next week.com to see how far away you can go in the gallery of iReporters.com photos .\\'} {\\'summary_text\\': \" Interview with Mark Lee, CEO, Gucci Gucci chief executive . Interview with Lee: Gucci CEO, CEO of Gucci and Gucci stores . Gucci is a multi-million dollar brand that has been in the fashion industry for more than 30 years . Interview interview with Lee at Gucci\\'s headquarters in New York City, New York, goes back to Mark Lee\\'s Gucci store .\"} {\\'summary_text\\': \\' CNN.com will feature iReporter photos in a weekly Travel Snapshots gallery . Please submit your best shots of CNN Travel next week for a new gallery of snapshots . Visit CNN iReport.com/Travel next Wednesday for a gallery of shots of travel next week.com to see how far away you can go in the gallery of iReporters.com photos .\\'} {\\'summary_text\\': \\' Mark Lee says India has the highest percentage of customers who prefer Gucci to other brands . Lee says that India is the most attractive emerging market for luxury brands . Attractiveness of present day luxury brands is making a lot of money pumped into emerging markets like India . Lee: \"India has the most people in the world who prefer to buy Gucci than other brands\"\\'} {\\'summary_text\\': \\' CNN.com will feature iReporter photos in a weekly Travel Snapshots gallery . Please submit your best shots of CNN Travel next week for a new gallery of snapshots . Visit CNN iReport.com/Travel next Wednesday for a gallery of shots of travel next week.com to see how far away you can go in the gallery of iReporters.com photos .\\'} {\\'summary_text\\': \" CNN.com will feature iReporter photos in a weekly Travel Snapshots gallery . Please submit your best shots for next week\\'s gallery of iReporters . Visit CNN iReport.com/Travel next Friday for a new gallery of snapshots . Visit http://www.dailymailonline.co.uk/TravelNext Friday for snapshots of the best shots of life in America .\"} {\\'summary_text\\': \\' CNN.com will feature iReporter photos in a weekly Travel Snapshots gallery . Please submit your best shots of CNN Travel next week for a new gallery of snapshots . Visit CNN iReport.com/Travel next Wednesday for a gallery of shots of travel next week.com to see how far away you can go in the gallery of iReporters.com photos .\\'} {\\'summary_text\\': \" Retailer: How do you see the luxury retail market in India? Tell us what you think about luxury retail in the country\\'s luxury market . Retailer says luxury retail will be a big part of the luxury market for the first time in India’s luxury retail sector. Retailers: How are you seeing luxury retail going to be a major part of your luxury retail experience?\"} {\\'summary_text\\': \\' CNN.com will feature iReporter photos in a weekly Travel Snapshots gallery . Please submit your best shots of CNN Travel next week for a new gallery of snapshots . Visit CNN iReport.com/Travel next Wednesday for a gallery of shots of travel next week.com to see how far away you can go in the gallery of iReporters.com photos .\\'} {\\'summary_text\\': \\' At present, Gucci has two outlets, one each in Mumbai and Delhi . Mark Lee (ML): Last year, we had an opportunity to enter Indian luxury market. It is the beginning for us in India. We will open the third store in Delhi and the fourth in Bangalore this year itself. We are looking forward to opening the third in Delhi this year .\\'} {\\'summary_text\\': \\' CNN.com will feature iReporter photos in a weekly Travel Snapshots gallery . Please submit your best shots of CNN Travel next week for a new gallery of snapshots . Visit CNN iReport.com/Travel next Wednesday for a gallery of shots of travel next week.com to see how far away you can go in the gallery of iReporters.com photos .\\'} {\\'summary_text\\': \" CNN.com will feature iReporter photos in a weekly Travel Snapshots gallery . Please submit your best shots for next week\\'s gallery of iReporters . Visit CNN iReport.com/Travel next Friday for a new gallery of snapshots . Visit http://www.dailymailonline.co.uk/TravelNext Friday for snapshots of the best shots of life in America .\"} {\\'summary_text\\': \\' CNN.com will feature iReporter photos in a weekly Travel Snapshots gallery . Please submit your best shots of CNN Travel next week for a new gallery of snapshots . Visit CNN iReport.com/Travel next Wednesday for a gallery of shots of travel next week.com to see how far away you can go in the gallery of iReporters.com photos .\\'} {\\'summary_text\\': \\' Retailer: How do you see Indiaâ\\\\x80�’s demand for luxury goods in comparison to other emerging global markets? Retailer asks: What do you think of India�â�™\\\\x99s luxury goods demand? India�Ã\\\\x80€€\\\\x81�”s demand is based on a study of luxury goods, which is based in India .\\'} {\\'summary_text\\': \\' CNN.com will feature iReporter photos in a weekly Travel Snapshots gallery . Please submit your best shots of CNN Travel next week for a new gallery of snapshots . Visit CNN iReport.com/Travel next Wednesday for a gallery of shots of travel next week.com to see how far away you can go in the gallery of iReporters.com photos .\\'} {\\'summary_text\\': \\' Gucci is the most coveted brand in the world. Worldwide, every fifth consumer said that money would be no objectâ\\\\x80\\\\x99 and he would go for Gucci. And, the highest number of persons who chose Gucci belong to India.    ML: ‘Every fifth consumer would choose Gucci,’ and would buy the brand .\\'} {\\'summary_text\\': \\' CNN.com will feature iReporter photos in a weekly Travel Snapshots gallery . Please submit your best shots of CNN Travel next week for a new gallery of snapshots . Visit CNN iReport.com/Travel next Wednesday for a gallery of shots of travel next week.com to see how far away you can go in the gallery of iReporters.com photos .\\'} {\\'summary_text\\': \" CNN.com will feature iReporter photos in a weekly Travel Snapshots gallery . Please submit your best shots for next week\\'s gallery of iReporters . Visit CNN iReport.com/Travel next Friday for a new gallery of snapshots . Visit http://www.dailymailonline.co.uk/TravelNext Friday for snapshots of the best shots of life in America .\"} {\\'summary_text\\': \\' CNN.com will feature iReporter photos in a weekly Travel Snapshots gallery . Please submit your best shots of CNN Travel next week for a new gallery of snapshots . Visit CNN iReport.com/Travel next Wednesday for a gallery of shots of travel next week.com to see how far away you can go in the gallery of iReporters.com photos .\\'} {\\'summary_text\\': \\' Retailer: How do you see Gucciâ\\\\x80\\\\x99s development in India? Gucci: \"I’m looking forward to seeing my brand grow in India\" Gucci has been in India for more than a decade, including in India, since 2004 . Gucci’s global brand has been a big success in India since then, says Retailer .\\'} {\\'summary_text\\': \\' CNN.com will feature iReporter photos in a weekly Travel Snapshots gallery . Please submit your best shots of CNN Travel next week for a new gallery of snapshots . Visit CNN iReport.com/Travel next Wednesday for a gallery of shots of travel next week.com to see how far away you can go in the gallery of iReporters.com photos .\\'} {\\'summary_text\\': \\' In the current financial year, Gucci plans to open at least four new stores in India . Indian customers want the same Gucci experience in terms of quality, product, design and service as delivered in other stores around the world . Gucci is 87 years old brand and India, of course, has incredible history. It is a question of putting these two values together and letting them mature or grow fully .\\'} {\\'summary_text\\': \\' CNN.com will feature iReporter photos in a weekly Travel Snapshots gallery . Please submit your best shots of CNN Travel next week for a new gallery of snapshots . Visit CNN iReport.com/Travel next Wednesday for a gallery of shots of travel next week.com to see how far away you can go in the gallery of iReporters.com photos .\\'} {\\'summary_text\\': \" CNN.com will feature iReporter photos in a weekly Travel Snapshots gallery . Please submit your best shots for next week\\'s gallery of iReporters . Visit CNN iReport.com/Travel next Friday for a new gallery of snapshots . Visit http://www.dailymailonline.co.uk/TravelNext Friday for snapshots of the best shots of life in America .\"} {\\'summary_text\\': \\' CNN.com will feature iReporter photos in a weekly Travel Snapshots gallery . Please submit your best shots of CNN Travel next week for a new gallery of snapshots . Visit CNN iReport.com/Travel next Wednesday for a gallery of shots of travel next week.com to see how far away you can go in the gallery of iReporters.com photos .\\'} {\\'summary_text\\': \" Retailer: What is the size of Gucci stores in India? Gucci has a store in India\\'s largest city . Gucci is owned by Gucci chief designer Alessandro Arlelella di di diarchetta, a designer of Italian luxury brand Gucci Gucci empire . The Gucci store is one of the world\\'s most expensive and exclusive luxury brands .\"} {\\'summary_text\\': \\' CNN.com will feature iReporter photos in a weekly Travel Snapshots gallery . Please submit your best shots of CNN Travel next week for a new gallery of snapshots . Visit CNN iReport.com/Travel next Wednesday for a gallery of shots of travel next week.com to see how far away you can go in the gallery of iReporters.com photos .\\'} {\\'summary_text\\': \\' Gucciâ\\\\x80\\\\x99s Mumbai store, which is 350 sq.mts, is the largest single luxury goods store in the Indian market . It is a full range store that offers all of our products like leather goods, footwear and ready-to-wear menswear and women wear . The size of Delhi store is quite small, says ML .\\'} {\\'summary_text\\': \\' CNN.com will feature iReporter photos in a weekly Travel Snapshots gallery . Please submit your best shots of CNN Travel next week for a new gallery of snapshots . Visit CNN iReport.com/Travel next Wednesday for a gallery of shots of travel next week.com to see how far away you can go in the gallery of iReporters.com photos .\\'} {\\'summary_text\\': \" CNN.com will feature iReporter photos in a weekly Travel Snapshots gallery . Please submit your best shots for next week\\'s gallery of iReporters . Visit CNN iReport.com/Travel next Friday for a new gallery of snapshots . Visit http://www.dailymailonline.co.uk/TravelNext Friday for snapshots of the best shots of life in America .\"} {\\'summary_text\\': \\' CNN.com will feature iReporter photos in a weekly Travel Snapshots gallery . Please submit your best shots of CNN Travel next week for a new gallery of snapshots . Visit CNN iReport.com/Travel next Wednesday for a gallery of shots of travel next week.com to see how far away you can go in the gallery of iReporters.com photos .\\'} {\\'summary_text\\': \" Retailer: How many new stores are coming up in the next five years? How many of them will be in the U.S. New stores will be opened in the coming years? Retailers say they\\'re looking forward to a new generation of stores . Retailers are looking to build more than 1,000 new stores in five years, according to CNN iReport.com .\"} {\\'summary_text\\': \\' CNN.com will feature iReporter photos in a weekly Travel Snapshots gallery . Please submit your best shots of CNN Travel next week for a new gallery of snapshots . Visit CNN iReport.com/Travel next Wednesday for a gallery of shots of travel next week.com to see how far away you can go in the gallery of iReporters.com photos .\\'} {\\'summary_text\\': \" New Gucci stores will offer men\\'s and women\\'s ready-to-wear, handbags, shoes, watches and other accessories . ML: We plan to have a few more new Gucci outlets in major metros . The stores will be in major cities such as Delhi, Mumbai and Hyderabad . The Gucci brand says it will be a big success in India and India .\"} {\\'summary_text\\': \\' CNN.com will feature iReporter photos in a weekly Travel Snapshots gallery . Please submit your best shots of CNN Travel next week for a new gallery of snapshots . Visit CNN iReport.com/Travel next Wednesday for a gallery of shots of travel next week.com to see how far away you can go in the gallery of iReporters.com photos .\\'} {\\'summary_text\\': \" CNN.com will feature iReporter photos in a weekly Travel Snapshots gallery . Please submit your best shots for next week\\'s gallery of iReporters . Visit CNN iReport.com/Travel next Friday for a new gallery of snapshots . Visit http://www.dailymailonline.co.uk/TravelNext Friday for snapshots of the best shots of life in America .\"} {\\'summary_text\\': \\' CNN.com will feature iReporter photos in a weekly Travel Snapshots gallery . Please submit your best shots of CNN Travel next week for a new gallery of snapshots . Visit CNN iReport.com/Travel next Wednesday for a gallery of shots of travel next week.com to see how far away you can go in the gallery of iReporters.com photos .\\'} {\\'summary_text\\': \" Retailer: What is the range of products offered? Visit the website to find out more about the products you need to buy . Retailer says the products will be available in a range of sizes, colours and styles . The store\\'s website will be open to the public for the first time to see what is being offered at the time of the year . The website is now open to customers from all over the world, including from the U.S. and Canada .\"} {\\'summary_text\\': \\' CNN.com will feature iReporter photos in a weekly Travel Snapshots gallery . Please submit your best shots of CNN Travel next week for a new gallery of snapshots . Visit CNN iReport.com/Travel next Wednesday for a gallery of shots of travel next week.com to see how far away you can go in the gallery of iReporters.com photos .\\'} {\\'summary_text\\': \\' Gucciâ\\\\x80\\\\x99s main business, which represents 54 per cent of all its business, deals in leather goods . In 2007, leather goods grew over nine per cent while footwear and ready-to-wear is growing in the range of 20 per cent . In the last three years, Gucci have grown the brand by 46 per cent, says ML .\\'} {\\'summary_text\\': \\' CNN.com will feature iReporter photos in a weekly Travel Snapshots gallery . Please submit your best shots of CNN Travel next week for a new gallery of snapshots . Visit CNN iReport.com/Travel next Wednesday for a gallery of shots of travel next week.com to see how far away you can go in the gallery of iReporters.com photos .\\'} {\\'summary_text\\': \" CNN.com will feature iReporter photos in a weekly Travel Snapshots gallery . Please submit your best shots for next week\\'s gallery of iReporters . Visit CNN iReport.com/Travel next Friday for a new gallery of snapshots . Visit http://www.dailymailonline.co.uk/TravelNext Friday for snapshots of the best shots of life in America .\"} {\\'summary_text\\': \\' CNN.com will feature iReporter photos in a weekly Travel Snapshots gallery . Please submit your best shots of CNN Travel next week for a new gallery of snapshots . Visit CNN iReport.com/Travel next Wednesday for a gallery of shots of travel next week.com to see how far away you can go in the gallery of iReporters.com photos .\\'} {\\'summary_text\\': \" Retailer:  What is the scale of Gucci in terms of revenue? Gucci is a luxury brand that has been in decline for years . Gucci was founded by Gucci\\'s Alessandoni Gucci, a fashion designer who founded the label Gucci Gucci. Gucci founded the Gucci empire in 2004 . Gucci is a global brand that is based in Milan, Italy, Milan, Germany, Italy and China .\"} {\\'summary_text\\': \\' CNN.com will feature iReporter photos in a weekly Travel Snapshots gallery . Please submit your best shots of CNN Travel next week for a new gallery of snapshots . Visit CNN iReport.com/Travel next Wednesday for a gallery of shots of travel next week.com to see how far away you can go in the gallery of iReporters.com photos .\\'} {\\'summary_text\\': \\' Gucciâ\\\\x80\\\\x99s revenue reached almost 2.2 billion euros (approximately Rs 138.6 billion) 70 per cent of the revenue comes from stores that we own and operate ourselves, says ML . ML: On a global basis, GucciÃ\\\\x9a�’s . revenue reached about $2.4 billion (approximately £ 138.5 billion)\\'} {\\'summary_text\\': \\' CNN.com will feature iReporter photos in a weekly Travel Snapshots gallery . Please submit your best shots of CNN Travel next week for a new gallery of snapshots . Visit CNN iReport.com/Travel next Wednesday for a gallery of shots of travel next week.com to see how far away you can go in the gallery of iReporters.com photos .\\'} {\\'summary_text\\': \" CNN.com will feature iReporter photos in a weekly Travel Snapshots gallery . Please submit your best shots for next week\\'s gallery of iReporters . Visit CNN iReport.com/Travel next Friday for a new gallery of snapshots . Visit http://www.dailymailonline.co.uk/TravelNext Friday for snapshots of the best shots of life in America .\"} {\\'summary_text\\': \\' CNN.com will feature iReporter photos in a weekly Travel Snapshots gallery . Please submit your best shots of CNN Travel next week for a new gallery of snapshots . Visit CNN iReport.com/Travel next Wednesday for a gallery of shots of travel next week.com to see how far away you can go in the gallery of iReporters.com photos .\\'} {\\'summary_text\\': \\' Retailer: What do you think about real estate in emerging markets like India? Retailer asks: \"What do I think about â\\\\x80\\\\x98real estate\\\\\\' in emerging countries like India?\" Retailer says real estate will be a big part of the real estate market in the country\\\\\\'s emerging markets . Retailer has a personal essay to share about the experience of real estate agents in India .\\'} {\\'summary_text\\': \\' CNN.com will feature iReporter photos in a weekly Travel Snapshots gallery . Please submit your best shots of CNN Travel next week for a new gallery of snapshots . Visit CNN iReport.com/Travel next Wednesday for a gallery of shots of travel next week.com to see how far away you can go in the gallery of iReporters.com photos .\\'} {\\'summary_text\\': \\' As 41 per cent of Indians would choose Gucci, there is awareness about the Gucci brand . Weâ\\\\x80\\\\x99re quite excited about medium and long range potential and we plan to develop step by step in the Indian market . The real estate is the top challenge, says ML: I think the real estate challenge is the most important issue for Gucci .\\'} {\\'summary_text\\': \\' CNN.com will feature iReporter photos in a weekly Travel Snapshots gallery . Please submit your best shots of CNN Travel next week for a new gallery of snapshots . Visit CNN iReport.com/Travel next Wednesday for a gallery of shots of travel next week.com to see how far away you can go in the gallery of iReporters.com photos .\\'} {\\'summary_text\\': \" CNN.com will feature iReporter photos in a weekly Travel Snapshots gallery . Please submit your best shots for next week\\'s gallery of iReporters . Visit CNN iReport.com/Travel next Friday for a new gallery of snapshots . Visit http://www.dailymailonline.co.uk/TravelNext Friday for snapshots of the best shots of life in America .\"} {\\'summary_text\\': \\' CNN.com will feature iReporter photos in a weekly Travel Snapshots gallery . Please submit your best shots of CNN Travel next week for a new gallery of snapshots . Visit CNN iReport.com/Travel next Wednesday for a gallery of shots of travel next week.com to see how far away you can go in the gallery of iReporters.com photos .\\'} {\\'summary_text\\': \\' Retailer: Are you also looking to incorporate any of traditional Indian wear in your collection? Are you looking at incorporating traditional Indian clothing in your new collection? Share your thoughts with us at CNN iReport.com/designer@dailymailonline.com . Back to the page you came from: http://www.mailonlineonline.co.uk/news/newskaraara/storystory .\\'} {\\'summary_text\\': \\' CNN.com will feature iReporter photos in a weekly Travel Snapshots gallery . Please submit your best shots of CNN Travel next week for a new gallery of snapshots . Visit CNN iReport.com/Travel next Wednesday for a gallery of shots of travel next week.com to see how far away you can go in the gallery of iReporters.com photos .\\'} {\\'summary_text\\': \\' At present, we have not incorporated any of the designs . But, we are talking about turbans and some of the local garments . For the time being, we leave this as an open thought, says ML: \"At present, it is not a decision to incorporate any of these designs . It is not yet clear whether we will incorporate turbans or local clothing, but we are looking at turbans .\\'}'"
            ],
            "application/vnd.google.colaboratory.intrinsic+json": {
              "type": "string"
            }
          },
          "metadata": {},
          "execution_count": 61
        }
      ]
    },
    {
      "cell_type": "code",
      "source": [
        "summ1=len(summ.split())\n",
        "print(\" The no. of words in the summarization is :\" +str(summ1))"
      ],
      "metadata": {
        "colab": {
          "base_uri": "https://localhost:8080/"
        },
        "id": "nWHsqN6Fk02e",
        "outputId": "aadc7e06-df51-43bf-bc96-bb3e852f0f37"
      },
      "execution_count": null,
      "outputs": [
        {
          "output_type": "stream",
          "name": "stdout",
          "text": [
            " The no. of words in the summarization is :4044\n"
          ]
        }
      ]
    },
    {
      "cell_type": "code",
      "source": [],
      "metadata": {
        "id": "oN-k8yFuk67o"
      },
      "execution_count": null,
      "outputs": []
    }
  ]
}